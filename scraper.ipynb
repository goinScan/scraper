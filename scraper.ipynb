{
 "cells": [
  {
   "cell_type": "markdown",
   "metadata": {},
   "source": [
    "Goal for 6/25\n",
    "    - add logic for checking year\n",
    "    - add logic for comparing education\n",
    "    - add logic to parse work summary\n",
    "    \n",
    "Goal for 8/7\n",
    "    - use people parser for given names\n",
    "    - try to run people with university of virginia as school\n",
    "    \n",
    "Goal for 8/8\n",
    "    - make it still output first four columns when cannot find or parse\n",
    "    - kick out people it cannot parse into it's own file\n",
    "    - add company as a default search paramter\n",
    "    - make separate list of people "
   ]
  },
  {
   "cell_type": "code",
   "execution_count": 11,
   "metadata": {
    "collapsed": false
   },
   "outputs": [],
   "source": [
    "from selenium import webdriver\n",
    "import csv\n",
    "import time\n",
    "import random\n",
    "import pandas as pd\n",
    "import probablepeople as pp\n",
    "import numpy as np"
   ]
  },
  {
   "cell_type": "code",
   "execution_count": 3,
   "metadata": {
    "collapsed": true
   },
   "outputs": [],
   "source": [
    "df = pd.read_excel('alumni_sample902-1001.xlsx')"
   ]
  },
  {
   "cell_type": "code",
   "execution_count": 4,
   "metadata": {
    "collapsed": false
   },
   "outputs": [
    {
     "data": {
      "text/html": [
       "<div>\n",
       "<table border=\"1\" class=\"dataframe\">\n",
       "  <thead>\n",
       "    <tr style=\"text-align: right;\">\n",
       "      <th></th>\n",
       "      <th>ENTITY_ID_NUMBER</th>\n",
       "      <th>PREF_MAIL_NAME</th>\n",
       "      <th>YEAR1</th>\n",
       "      <th>BUSINESS_TITLE</th>\n",
       "      <th>EMPLOYER</th>\n",
       "    </tr>\n",
       "  </thead>\n",
       "  <tbody>\n",
       "    <tr>\n",
       "      <th>0</th>\n",
       "      <td>2988279</td>\n",
       "      <td>Mr. Jared D. Hahn</td>\n",
       "      <td>2012</td>\n",
       "      <td>NaN</td>\n",
       "      <td>NaN</td>\n",
       "    </tr>\n",
       "    <tr>\n",
       "      <th>1</th>\n",
       "      <td>2988784</td>\n",
       "      <td>Mr. Weston M. Gardner</td>\n",
       "      <td>2012</td>\n",
       "      <td>NaN</td>\n",
       "      <td>NaN</td>\n",
       "    </tr>\n",
       "    <tr>\n",
       "      <th>2</th>\n",
       "      <td>2854156</td>\n",
       "      <td>Mr. Seunghyun No</td>\n",
       "      <td>2006</td>\n",
       "      <td>NaN</td>\n",
       "      <td>NaN</td>\n",
       "    </tr>\n",
       "    <tr>\n",
       "      <th>3</th>\n",
       "      <td>2934077</td>\n",
       "      <td>Ms. Kiran A. Jinsi</td>\n",
       "      <td>2010</td>\n",
       "      <td>NaN</td>\n",
       "      <td>NaN</td>\n",
       "    </tr>\n",
       "    <tr>\n",
       "      <th>4</th>\n",
       "      <td>267559</td>\n",
       "      <td>Mr. Joseph A. Readyhough</td>\n",
       "      <td>1998</td>\n",
       "      <td>NaN</td>\n",
       "      <td>NaN</td>\n",
       "    </tr>\n",
       "  </tbody>\n",
       "</table>\n",
       "</div>"
      ],
      "text/plain": [
       "   ENTITY_ID_NUMBER            PREF_MAIL_NAME  YEAR1  BUSINESS_TITLE  EMPLOYER\n",
       "0           2988279         Mr. Jared D. Hahn   2012             NaN       NaN\n",
       "1           2988784     Mr. Weston M. Gardner   2012             NaN       NaN\n",
       "2           2854156          Mr. Seunghyun No   2006             NaN       NaN\n",
       "3           2934077        Ms. Kiran A. Jinsi   2010             NaN       NaN\n",
       "4            267559  Mr. Joseph A. Readyhough   1998             NaN       NaN"
      ]
     },
     "execution_count": 4,
     "metadata": {},
     "output_type": "execute_result"
    }
   ],
   "source": [
    "df.head()"
   ]
  },
  {
   "cell_type": "code",
   "execution_count": 20,
   "metadata": {
    "collapsed": true
   },
   "outputs": [],
   "source": [
    "df = df.fillna('')"
   ]
  },
  {
   "cell_type": "code",
   "execution_count": 21,
   "metadata": {
    "collapsed": false
   },
   "outputs": [
    {
     "data": {
      "text/html": [
       "<div>\n",
       "<table border=\"1\" class=\"dataframe\">\n",
       "  <thead>\n",
       "    <tr style=\"text-align: right;\">\n",
       "      <th></th>\n",
       "      <th>ENTITY_ID_NUMBER</th>\n",
       "      <th>PREF_MAIL_NAME</th>\n",
       "      <th>YEAR1</th>\n",
       "      <th>BUSINESS_TITLE</th>\n",
       "      <th>EMPLOYER</th>\n",
       "    </tr>\n",
       "  </thead>\n",
       "  <tbody>\n",
       "    <tr>\n",
       "      <th>0</th>\n",
       "      <td>2988279</td>\n",
       "      <td>Mr. Jared D. Hahn</td>\n",
       "      <td>2012</td>\n",
       "      <td></td>\n",
       "      <td></td>\n",
       "    </tr>\n",
       "    <tr>\n",
       "      <th>1</th>\n",
       "      <td>2988784</td>\n",
       "      <td>Mr. Weston M. Gardner</td>\n",
       "      <td>2012</td>\n",
       "      <td></td>\n",
       "      <td></td>\n",
       "    </tr>\n",
       "    <tr>\n",
       "      <th>2</th>\n",
       "      <td>2854156</td>\n",
       "      <td>Mr. Seunghyun No</td>\n",
       "      <td>2006</td>\n",
       "      <td></td>\n",
       "      <td></td>\n",
       "    </tr>\n",
       "    <tr>\n",
       "      <th>3</th>\n",
       "      <td>2934077</td>\n",
       "      <td>Ms. Kiran A. Jinsi</td>\n",
       "      <td>2010</td>\n",
       "      <td></td>\n",
       "      <td></td>\n",
       "    </tr>\n",
       "    <tr>\n",
       "      <th>4</th>\n",
       "      <td>267559</td>\n",
       "      <td>Mr. Joseph A. Readyhough</td>\n",
       "      <td>1998</td>\n",
       "      <td></td>\n",
       "      <td></td>\n",
       "    </tr>\n",
       "  </tbody>\n",
       "</table>\n",
       "</div>"
      ],
      "text/plain": [
       "   ENTITY_ID_NUMBER            PREF_MAIL_NAME  YEAR1 BUSINESS_TITLE EMPLOYER\n",
       "0           2988279         Mr. Jared D. Hahn   2012                        \n",
       "1           2988784     Mr. Weston M. Gardner   2012                        \n",
       "2           2854156          Mr. Seunghyun No   2006                        \n",
       "3           2934077        Ms. Kiran A. Jinsi   2010                        \n",
       "4            267559  Mr. Joseph A. Readyhough   1998                        "
      ]
     },
     "execution_count": 21,
     "metadata": {},
     "output_type": "execute_result"
    }
   ],
   "source": [
    "df.head()"
   ]
  },
  {
   "cell_type": "code",
   "execution_count": 18,
   "metadata": {
    "collapsed": true
   },
   "outputs": [],
   "source": [
    "p = pp.tag('Ms. Shondale Terree Bostick')"
   ]
  },
  {
   "cell_type": "code",
   "execution_count": 44,
   "metadata": {
    "collapsed": false
   },
   "outputs": [
    {
     "data": {
      "text/plain": [
       "(OrderedDict([('CorporationName', 'Ms. Shondale Terree Bostick')]),\n",
       " 'Corporation')"
      ]
     },
     "execution_count": 44,
     "metadata": {},
     "output_type": "execute_result"
    }
   ],
   "source": [
    "p"
   ]
  },
  {
   "cell_type": "code",
   "execution_count": 5,
   "metadata": {
    "collapsed": true
   },
   "outputs": [],
   "source": [
    "url = 'https://www.linkedin.com/'\n",
    "username = 'mariamariasmithsmithsmith@gmail.com'\n",
    "password = 'scrapenrape'"
   ]
  },
  {
   "cell_type": "code",
   "execution_count": 6,
   "metadata": {
    "collapsed": true
   },
   "outputs": [],
   "source": [
    "driver = webdriver.Chrome()"
   ]
  },
  {
   "cell_type": "code",
   "execution_count": 7,
   "metadata": {
    "collapsed": true
   },
   "outputs": [],
   "source": [
    "driver.get(url)"
   ]
  },
  {
   "cell_type": "code",
   "execution_count": 8,
   "metadata": {
    "collapsed": true
   },
   "outputs": [],
   "source": [
    "driver.find_element_by_id('login-email').send_keys(username)\n",
    "time.sleep(random.gauss(1, .1))\n",
    "driver.find_element_by_id('login-password').send_keys(password)\n",
    "time.sleep(random.gauss(1, .1))\n",
    "driver.find_element_by_name('submit').click()"
   ]
  },
  {
   "cell_type": "code",
   "execution_count": 9,
   "metadata": {
    "collapsed": true
   },
   "outputs": [],
   "source": [
    "school = 'University of Virginia'\n",
    "REPLACE_CHARS = ['1st','2nd','3rd',' CPA','Premium Badge','GROUP']"
   ]
  },
  {
   "cell_type": "code",
   "execution_count": 22,
   "metadata": {
    "collapsed": false
   },
   "outputs": [
    {
     "name": "stdout",
     "output_type": "stream",
     "text": [
      "\n",
      "Processing 0: Jared Hahn\n",
      "\n",
      "Processing 1: Weston Gardner\n",
      "\n",
      "Processing 2: Seunghyun No\n",
      "\n",
      "\n",
      "Processing 4: Joseph Readyhough\n",
      "\n",
      "Processing 5: Marcia McHenry\n",
      "\n",
      "Processing 6: Matthew Adinolfi\n",
      "\n",
      "Processing 7: Kathryn Young\n",
      "\n",
      "Processing 8: Joseph Hooker\n",
      "\n",
      "Processing 9: Edwin Wong\n",
      "\n",
      "Processing 10: Karl Brimmer\n",
      "\n",
      "Processing 11: Andrew Martin\n",
      "\n",
      "Processing 12: Margaret Cleary\n",
      "\n",
      "Processing 13: Mary Alnutt\n",
      "\n",
      "Processing 14: Alexander Wu\n",
      "\n",
      "Processing 15: Victoria Wolf\n",
      "\n",
      "Processing 16: Russell Lewis\n",
      "\n",
      "\n",
      "\n",
      "Processing 19: Tiffany Mitchell\n",
      "\n",
      "\n",
      "Processing 21: Nancy Hopkins\n",
      "\n",
      "Processing 22: Suzanne Boggs\n",
      "\n",
      "Processing 23: Key Michel\n",
      "\n",
      "Processing 24: Megan Collins\n",
      "\n",
      "\n",
      "Processing 26: Daniela Swaby\n",
      "\n",
      "Processing 27: Beth Goldstein\n",
      "\n",
      "Processing 28: Matthew Fania\n",
      "\n",
      "Processing 29: Wensi Wu\n",
      "\n",
      "\n",
      "Processing 31: Keith Haussermann\n",
      "\n",
      "\n",
      "Processing 33: Christopher Arnwine\n",
      "\n",
      "Processing 34: Kyle Rudman\n",
      "\n",
      "Processing 35: Mark Norman\n",
      "\n",
      "Processing 36: Anne Buettner\n",
      "\n",
      "Processing 37: Andrea Demasi\n",
      "\n",
      "Processing 38: Minwoo Nam\n",
      "\n",
      "Processing 39: Kathryn Wicker\n",
      "\n",
      "Processing 40: Gordon Stone\n",
      "\n",
      "Processing 41: Jane Alpert\n",
      "\n",
      "Processing 42: Scott Kerr\n",
      "\n",
      "Processing 43: Jennifer Lamb\n",
      "\n",
      "Processing 44: Vu Nguyen\n",
      "\n",
      "\n",
      "Processing 46: Kenzie Cooper\n",
      "\n",
      "\n",
      "Processing 48: Patrick Andrews\n",
      "\n",
      "Processing 49: Eric Strow\n",
      "\n",
      "Processing 50: John Steen\n",
      "\n",
      "Processing 51: Brendan Smith\n",
      "\n",
      "Processing 52: Francine Gilbert\n",
      "\n",
      "Processing 53: Shefali Saldanha\n",
      "\n",
      "Processing 54: Katherine Gizinski\n",
      "\n",
      "Processing 55: Ashley Ernemann\n",
      "\n",
      "Processing 56: Robert Leahey\n",
      "\n",
      "Processing 57: Dean Wenger\n",
      "\n",
      "Processing 58: Virginia McLanahan\n",
      "\n",
      "Processing 59: Chun Cheng\n",
      "\n",
      "Processing 60: Mark Fowler\n",
      "\n",
      "Processing 61: Qingwei Kong\n",
      "\n",
      "Processing 62: Susan Walton\n",
      "\n",
      "\n",
      "Processing 64: Judith Hermis\n",
      "\n",
      "Processing 65: Adele A'Brassard\n",
      "\n",
      "Processing 66: Margaret Alexander\n",
      "\n",
      "Processing 67: Jami Montambault\n",
      "\n",
      "Processing 68: Tyler Pearson\n",
      "\n",
      "Processing 69: Arthur White\n",
      "\n",
      "Processing 70: Yevonne Chandler\n",
      "\n",
      "Processing 71: Andrew Baker\n",
      "\n",
      "Processing 72: Jeffrey Dergurahian\n",
      "\n",
      "Processing 73: Janel Kasparson\n",
      "\n",
      "\n",
      "Processing 75: Ignacio Gomez Saavedra\n",
      "\n",
      "Processing 76: Adaeze Amaram\n",
      "\n",
      "Processing 77: Alexander Roth\n",
      "\n",
      "Processing 78: Frederick Forshaw\n",
      "\n",
      "Processing 79: Glenda Anderson\n",
      "\n",
      "Processing 80: Sylvana Gonzalez\n",
      "\n",
      "Processing 81: Joan Whitmer\n",
      "\n",
      "Processing 82: Bernard Meadows\n",
      "\n",
      "Processing 83: Jacob Letson\n",
      "\n",
      "Processing 84: Andrew Stafford\n",
      "\n",
      "Processing 85: Khaled Boukadoum\n",
      "\n",
      "Processing 86: Cara Brown\n",
      "\n",
      "Processing 87: Mary Burke\n",
      "\n",
      "Processing 88: Taha Syed\n",
      "\n",
      "Processing 89: Jessica Streufert\n",
      "\n",
      "Processing 90: Linda Taylor\n",
      "\n",
      "Processing 91: Abby Kech\n",
      "\n",
      "Processing 92: Mark Neider\n",
      "\n",
      "Processing 93: Christine Breton\n",
      "\n",
      "\n",
      "Processing 95: Lynn McGonigle\n",
      "\n",
      "Processing 96: Lauren Walsh\n",
      "\n",
      "Processing 97: Mira Halim\n",
      "\n",
      "Processing 98: Nicholas Casci\n",
      "\n",
      "Processing 99: Christopher McGoff\n"
     ]
    }
   ],
   "source": [
    "unparsed_info = []\n",
    "unfound_info = []\n",
    "scraped_info = []\n",
    "for idx, row in df.iterrows():\n",
    "    print(row.EMPLOYER)\n",
    "    entity_id = row.ENTITY_ID_NUMBER\n",
    "    orig_name = row.PREF_MAIL_NAME\n",
    "    try:    \n",
    "        parsed_name = pp.tag(orig_name)\n",
    "        first_name = parsed_name[0]['GivenName']\n",
    "        last_name = parsed_name[0]['Surname']\n",
    "    except Exception:\n",
    "        info = (entity_id, orig_name, grad_year, business_title, employer)\n",
    "        unparsed_info.append(list(info))\n",
    "        continue\n",
    "        \n",
    "    grad_year = str(row.YEAR1)\n",
    "    business_title = row.BUSINESS_TITLE\n",
    "    employer = row.EMPLOYER\n",
    "    \n",
    "    print(\"Processing {}: {} {}\".format(idx, first_name, last_name))\n",
    "    \n",
    "    driver.find_element_by_id('advanced-search').click()\n",
    "    time.sleep(random.gauss(1, .1))\n",
    "    \n",
    "    driver.find_element_by_id('advs-firstName').clear()\n",
    "    driver.find_element_by_id('advs-lastName').clear()\n",
    "    driver.find_element_by_id('advs-school').clear()\n",
    "    driver.find_element_by_id('advs-company').clear()\n",
    "    \n",
    "    driver.find_element_by_id('advs-firstName').send_keys(first_name)\n",
    "    driver.find_element_by_id('advs-lastName').send_keys(last_name)\n",
    "    driver.find_element_by_id('advs-company').send_keys(employer)\n",
    "    driver.find_element_by_id('advs-school').send_keys(school)\n",
    "    driver.find_element_by_class_name('submit-advs').click()\n",
    "    time.sleep(random.gauss(4.2, .5))\n",
    "    \n",
    "    num_results = driver.find_element_by_class_name('search-info').text.split('\\n')[0]\n",
    "    num_results = num_results.strip(\" results\")\n",
    "    #num_results = int(num_results)\n",
    "    if num_results == '0':\n",
    "        info = (entity_id, orig_name, grad_year, business_title, employer, first_name, last_name)\n",
    "        unfound_info.append(list(info))\n",
    "        continue\n",
    "        \n",
    "    results_summary = driver.find_element_by_id('results-container').text.split('\\n')\n",
    "    #print('results summary: {}'.format(results_summary))\n",
    "    scraped_name = results_summary[0]\n",
    "    for chars in REPLACE_CHARS:\n",
    "        scraped_name = scraped_name.replace(chars, '')\n",
    "    #print('scraped name: {}'.format(scraped_name))\n",
    "    summary_position = results_summary[1]\n",
    "    \n",
    "    full_name = first_name + \" \" + last_name\n",
    "    name_match = \"True\" if scraped_name == full_name else \"False\"\n",
    "    \n",
    "    driver.find_element_by_css_selector('a.title.main-headline').click()\n",
    "    time.sleep(random.gauss(1.1, .2))\n",
    "    \n",
    "    try:\n",
    "        education_text = driver.find_element_by_id('background-education').text.replace('Education\\n', '')\n",
    "        school_match = \"True\" if school in education_text else \"False\"\n",
    "        year_match = \"True\" if grad_year in education_text else \"False\"\n",
    "        parsed_education_text = education_text.split('\\n')\n",
    "    except Exception:\n",
    "        education_text = parsed_education_text = ''\n",
    "        school_match = year_match = \"False\"\n",
    "    \n",
    "    try:\n",
    "        work_experience = driver.find_element_by_id('background-experience-container').text.replace('Experience\\n', '')\n",
    "        parsed_work_experience = work_experience.split('\\n')\n",
    "        current_position = parsed_work_experience[0]\n",
    "        current_company = parsed_work_experience[1]\n",
    "        current_location = parsed_work_experience[2].rsplit(')')[1]\n",
    "        employer_match = \"True\" if current_company == employer else \"False\"\n",
    "    except Exception:\n",
    "        parsed_work_experience = current_position = current_company = current_location = ''\n",
    "        employer_match = \"False\"\n",
    "        \n",
    "    #if name_match == 'False' and school_match == 'False' and year_match == 'False':\n",
    "    #    try_mcintyre(driver=driver, first_name, last_name, school=school2)\n",
    "    \n",
    "    driver.find_element_by_id('advanced-search').click()\n",
    "    time.sleep(random.gauss(1.1, .1))\n",
    "    \n",
    "    info = (entity_id, orig_name, grad_year, business_title, employer, first_name, last_name, num_results, scraped_name, summary_position,\n",
    "            current_position, current_company, current_location,\n",
    "            parsed_education_text, parsed_work_experience, name_match, school_match, year_match, employer_match)\n",
    "    scraped_info.append(list(info))\n",
    "    \n",
    "    "
   ]
  },
  {
   "cell_type": "code",
   "execution_count": 24,
   "metadata": {
    "collapsed": false
   },
   "outputs": [],
   "source": [
    "with open('results/902-1001/results902-1001.csv', 'w') as output:\n",
    "    scraper_writer = csv.writer(output)\n",
    "    scraper_writer.writerow(['ENTITY_ID_NUMBER','PREF_MAIL_NAME','YEAR1','BUSINESS_TITLE','EMPLOYER',\n",
    "                    'first_name','last_name','No. Search Results','Search Results Name',\n",
    "                    'Search Results Work Summary', 'Current Position','Current Company','Current Location',\n",
    "                    'Education Experience','Work Experience','Name Match','School Match','Year Match',\n",
    "                    'Employer Match'])\n",
    "    for row in scraped_info:\n",
    "        scraper_writer.writerow(row)"
   ]
  },
  {
   "cell_type": "code",
   "execution_count": 25,
   "metadata": {
    "collapsed": true
   },
   "outputs": [],
   "source": [
    "with open('results/902-1001/unfound.csv', 'w') as no_output:\n",
    "    scraper_writer = csv.writer(no_output)\n",
    "    scraper_writer.writerow(['ENTITY_ID_NUMBER','PREF_MAIL_NAME','YEAR1','BUSINESS_TITLE','EMPLOYER',\n",
    "                    'first_name','last_name'])\n",
    "    for row in unfound_info:\n",
    "        scraper_writer.writerow(row)"
   ]
  },
  {
   "cell_type": "code",
   "execution_count": 26,
   "metadata": {
    "collapsed": true
   },
   "outputs": [],
   "source": [
    "with open('results/902-1001/unparsed.csv', 'w') as no_parse:\n",
    "    scraper_writer = csv.writer(no_parse)\n",
    "    scraper_writer.writerow(['ENTITY_ID_NUMBER','PREF_MAIL_NAME','YEAR1','BUSINESS_TITLE','EMPLOYER'])\n",
    "    for row in unparsed_info:\n",
    "        scraper_writer.writerow(row)"
   ]
  },
  {
   "cell_type": "code",
   "execution_count": 12,
   "metadata": {
    "collapsed": false
   },
   "outputs": [],
   "source": [
    "\"\"\"\n",
    "dfs = []\n",
    "for info in scraped_info:\n",
    "    print(info)\n",
    "    df = pd.DataFrame(info, columns=['ENTITY_ID_NUMBER','PREF_MAIL_NAME','YEAR1','BUSINESS_TITLE','EMPLOYER',\n",
    "                    'first_name','last_name','No. Search Results','Search Results Name',\n",
    "                    'Search Results Work Summary', 'Current Position','Current Company','Current Location',\n",
    "                    'Education Experience','Work Experience','Name Match','School Match','Year Match'])\n",
    "\"\"\""
   ]
  },
  {
   "cell_type": "code",
   "execution_count": 27,
   "metadata": {
    "collapsed": true
   },
   "outputs": [],
   "source": [
    "driver.close()"
   ]
  },
  {
   "cell_type": "code",
   "execution_count": 27,
   "metadata": {
    "collapsed": true
   },
   "outputs": [],
   "source": [
    "unfound_df = pd.read_csv('results/358-476/unfound.csv')"
   ]
  },
  {
   "cell_type": "code",
   "execution_count": 28,
   "metadata": {
    "collapsed": false
   },
   "outputs": [
    {
     "data": {
      "text/html": [
       "<div>\n",
       "<table border=\"1\" class=\"dataframe\">\n",
       "  <thead>\n",
       "    <tr style=\"text-align: right;\">\n",
       "      <th></th>\n",
       "      <th>ENTITY_ID_NUMBER</th>\n",
       "      <th>PREF_MAIL_NAME</th>\n",
       "      <th>YEAR1</th>\n",
       "      <th>BUSINESS_TITLE</th>\n",
       "      <th>EMPLOYER</th>\n",
       "      <th>first_name</th>\n",
       "      <th>last_name</th>\n",
       "    </tr>\n",
       "  </thead>\n",
       "  <tbody>\n",
       "    <tr>\n",
       "      <th>0</th>\n",
       "      <td>194358</td>\n",
       "      <td>Mr. Jonathan M. Housley</td>\n",
       "      <td>1991</td>\n",
       "      <td>President</td>\n",
       "      <td>John Housley Real Estate</td>\n",
       "      <td>Jonathan</td>\n",
       "      <td>Housley</td>\n",
       "    </tr>\n",
       "    <tr>\n",
       "      <th>1</th>\n",
       "      <td>189127</td>\n",
       "      <td>Mr. Charles Anthony Verbeck</td>\n",
       "      <td>1990</td>\n",
       "      <td>Director of Supply Chain</td>\n",
       "      <td>Johnson &amp; Johnson</td>\n",
       "      <td>Charles</td>\n",
       "      <td>Verbeck</td>\n",
       "    </tr>\n",
       "    <tr>\n",
       "      <th>2</th>\n",
       "      <td>94181</td>\n",
       "      <td>Miss Elaine M. Schweitzer</td>\n",
       "      <td>1980</td>\n",
       "      <td>VP, Financial Plng. &amp; Performance</td>\n",
       "      <td>Kaiser Foundation Health Plan, Inc.</td>\n",
       "      <td>Miss Elaine</td>\n",
       "      <td>Schweitzer</td>\n",
       "    </tr>\n",
       "    <tr>\n",
       "      <th>3</th>\n",
       "      <td>2767945</td>\n",
       "      <td>Mrs. Kimberly A. Crowell</td>\n",
       "      <td>2003</td>\n",
       "      <td>Principal</td>\n",
       "      <td>Kalo Holdings, LLC</td>\n",
       "      <td>Kimberly</td>\n",
       "      <td>Crowell</td>\n",
       "    </tr>\n",
       "    <tr>\n",
       "      <th>4</th>\n",
       "      <td>2730804</td>\n",
       "      <td>Mr. Christopher D. Lawrence</td>\n",
       "      <td>1999</td>\n",
       "      <td>Manager/Auditor</td>\n",
       "      <td>Kearney-National Incorporated</td>\n",
       "      <td>Christopher</td>\n",
       "      <td>Lawrence</td>\n",
       "    </tr>\n",
       "  </tbody>\n",
       "</table>\n",
       "</div>"
      ],
      "text/plain": [
       "   ENTITY_ID_NUMBER               PREF_MAIL_NAME  YEAR1  \\\n",
       "0            194358      Mr. Jonathan M. Housley   1991   \n",
       "1            189127  Mr. Charles Anthony Verbeck   1990   \n",
       "2             94181    Miss Elaine M. Schweitzer   1980   \n",
       "3           2767945     Mrs. Kimberly A. Crowell   2003   \n",
       "4           2730804  Mr. Christopher D. Lawrence   1999   \n",
       "\n",
       "                      BUSINESS_TITLE                             EMPLOYER  \\\n",
       "0                          President             John Housley Real Estate   \n",
       "1           Director of Supply Chain                    Johnson & Johnson   \n",
       "2  VP, Financial Plng. & Performance  Kaiser Foundation Health Plan, Inc.   \n",
       "3                          Principal                   Kalo Holdings, LLC   \n",
       "4                    Manager/Auditor        Kearney-National Incorporated   \n",
       "\n",
       "    first_name   last_name  \n",
       "0     Jonathan     Housley  \n",
       "1      Charles     Verbeck  \n",
       "2  Miss Elaine  Schweitzer  \n",
       "3     Kimberly     Crowell  \n",
       "4  Christopher    Lawrence  "
      ]
     },
     "execution_count": 28,
     "metadata": {},
     "output_type": "execute_result"
    }
   ],
   "source": [
    "unfound_df.head()"
   ]
  },
  {
   "cell_type": "code",
   "execution_count": 29,
   "metadata": {
    "collapsed": true
   },
   "outputs": [],
   "source": [
    "driver = webdriver.Chrome()"
   ]
  },
  {
   "cell_type": "code",
   "execution_count": 30,
   "metadata": {
    "collapsed": true
   },
   "outputs": [],
   "source": [
    "driver.get(url)"
   ]
  },
  {
   "cell_type": "code",
   "execution_count": 31,
   "metadata": {
    "collapsed": true
   },
   "outputs": [],
   "source": [
    "driver.find_element_by_id('login-email').send_keys(username)\n",
    "driver.find_element_by_id('login-password').send_keys(password)\n",
    "time.sleep(random.gauss(1, .1))\n",
    "driver.find_element_by_name('submit').click()"
   ]
  },
  {
   "cell_type": "code",
   "execution_count": 33,
   "metadata": {
    "collapsed": false
   },
   "outputs": [
    {
     "name": "stdout",
     "output_type": "stream",
     "text": [
      "Processing 0: Jonathan Housley\n",
      "Processing 1: Charles Verbeck\n",
      "Processing 2: Miss Elaine Schweitzer\n",
      "Processing 3: Kimberly Crowell\n",
      "Processing 4: Christopher Lawrence\n",
      "Processing 5: Joan Kearns\n",
      "Processing 6: Jessica Tindel\n",
      "Processing 7: Edward Testerman\n",
      "Processing 8: Pete Kotarides\n",
      "Processing 9: Stephen Depasquale\n",
      "Processing 10: Maxwell Duncan\n",
      "Processing 11: Lauren Bain\n",
      "Processing 12: Robin Pitts\n",
      "Processing 13: Patricia Cary\n",
      "Processing 14: Stacie Zambas\n",
      "Processing 15: Zenubia Madhani\n",
      "Processing 16: Sara Duff McKeon\n",
      "Processing 17: Brandon Furlong\n",
      "Processing 18: Philip Bednar\n",
      "Processing 19: Jeremy Eichler\n",
      "Processing 20: Frank Williams\n",
      "Processing 21: Sandra Lineberger Wolk\n",
      "Processing 22: Jason Ware\n",
      "Processing 23: Gregory O'Brien\n",
      "Processing 24: Stephan Miller\n",
      "Processing 25: Allison Lines\n",
      "Processing 26: Miss Lorrie Bradley\n",
      "Processing 27: Matthew Rubin\n",
      "Processing 28: John Schmidt\n",
      "Processing 29: Susan Scribner\n",
      "Processing 30: Robert Bretz\n",
      "Processing 31: Sylvia Augustyn\n",
      "Processing 32: Jamie Harbeck\n",
      "Processing 33: Laura Shuping\n",
      "Processing 34: Lisa Heuchert\n",
      "Processing 35: Kymberly Shackelford\n",
      "Processing 36: Kathy Abell\n",
      "Processing 37: Matthew Cerimele\n",
      "Processing 38: Irving Brenner\n",
      "Processing 39: Jeremy Rayburn\n",
      "Processing 40: Michael Smith\n",
      "Processing 41: Kevin Laake\n",
      "Processing 42: Linda Block-Love\n",
      "Processing 43: Richard Lawrence\n",
      "Processing 44: Mark Mincer\n",
      "Processing 45: James Egan\n",
      "Processing 46: Douglas Cohen\n",
      "Processing 47: Avron Stoloff\n",
      "Processing 48: Harry Karageorge\n",
      "Processing 49: Joaquin Targhetta\n",
      "Processing 50: Margaret Marion\n",
      "Processing 51: Anne Goodnow\n",
      "Processing 52: Stephen McArdle\n",
      "Processing 53: Daniela Castagnino\n",
      "Processing 54: James Yates\n",
      "Processing 55: Julie Auspaker\n",
      "Processing 56: Kristin Jensen\n",
      "Processing 57: Shawn Boyd\n",
      "Processing 58: Sara Gigele\n",
      "Processing 59: Therese Silman\n"
     ]
    }
   ],
   "source": [
    "unfound_info = []\n",
    "scraped_info = []\n",
    "unyearmatch_info = []\n",
    "for idx, row in unfound_df.iterrows():\n",
    "    entity_id = row.ENTITY_ID_NUMBER\n",
    "    orig_name = row.PREF_MAIL_NAME\n",
    "    first_name = row.first_name\n",
    "    last_name = row.last_name    \n",
    "    grad_year = str(row.YEAR1)\n",
    "    business_title = row.BUSINESS_TITLE\n",
    "    employer = row.EMPLOYER\n",
    "    \n",
    "    print(\"Processing {}: {} {}\".format(idx, first_name, last_name))\n",
    "    \n",
    "    driver.find_element_by_id('advanced-search').click()\n",
    "    time.sleep(random.gauss(1, .1))\n",
    "    \n",
    "    driver.find_element_by_id('advs-firstName').clear()\n",
    "    driver.find_element_by_id('advs-lastName').clear()\n",
    "    driver.find_element_by_id('advs-school').clear()\n",
    "    \n",
    "    driver.find_element_by_id('advs-firstName').send_keys(first_name)\n",
    "    driver.find_element_by_id('advs-lastName').send_keys(last_name)\n",
    "    driver.find_element_by_id('advs-school').send_keys(school)\n",
    "    driver.find_element_by_class_name('submit-advs').click()\n",
    "    time.sleep(random.gauss(4.2, .5))\n",
    "    \n",
    "    num_results = driver.find_element_by_class_name('search-info').text.split('\\n')[0]\n",
    "    num_results = num_results.strip(\" results\")\n",
    "    #num_results = int(num_results)\n",
    "    if num_results == '0':\n",
    "        info = (entity_id, orig_name, grad_year, business_title, employer, first_name, last_name)\n",
    "        unfound_info.append(list(info))\n",
    "        continue\n",
    "        \n",
    "    results_summary = driver.find_element_by_id('results-container').text.split('\\n')\n",
    "    #print('results summary: {}'.format(results_summary))\n",
    "    scraped_name = results_summary[0]\n",
    "    for chars in REPLACE_CHARS:\n",
    "        scraped_name = scraped_name.replace(chars, '')\n",
    "    #print('scraped name: {}'.format(scraped_name))\n",
    "    summary_position = results_summary[1]\n",
    "    \n",
    "    full_name = first_name + \" \" + last_name\n",
    "    name_match = \"True\" if scraped_name == full_name else \"False\"\n",
    "    \n",
    "    driver.find_element_by_css_selector('a.title.main-headline').click()\n",
    "    time.sleep(random.gauss(1.1, .2))\n",
    "    \n",
    "    try:\n",
    "        education_text = driver.find_element_by_id('background-education').text.replace('Education\\n', '')\n",
    "        school_match = \"True\" if school in education_text else \"False\"\n",
    "        year_match = \"True\" if grad_year in education_text else \"False\"\n",
    "        parsed_education_text = education_text.split('\\n')\n",
    "    except Exception:\n",
    "        education_text = parsed_education_text = ''\n",
    "        school_match = year_match = \"False\"\n",
    "        \n",
    "    try:\n",
    "        work_experience = driver.find_element_by_id('background-experience-container').text.replace('Experience\\n', '')\n",
    "        parsed_work_experience = work_experience.split('\\n')\n",
    "        current_position = parsed_work_experience[0]\n",
    "        current_company = parsed_work_experience[1]\n",
    "        current_location = parsed_work_experience[2].rsplit(')')[1]\n",
    "        employer_match = \"True\" if current_company == employer else \"False\"\n",
    "    except Exception:\n",
    "        parsed_work_experience = current_position = current_company = current_location = ''\n",
    "        employer_match = \"False\"\n",
    "        \n",
    "    if year_match == 'False':\n",
    "        info = (entity_id, orig_name, grad_year, business_title, employer, first_name, last_name, num_results, scraped_name, summary_position,\n",
    "            current_position, current_company, current_location,\n",
    "            parsed_education_text, parsed_work_experience, name_match, school_match, year_match, employer_match)\n",
    "        unyearmatch_info.append(list(info))\n",
    "        continue\n",
    "        \n",
    "    #if name_match == 'False' and school_match == 'False' and year_match == 'False':\n",
    "    #    try_mcintyre(driver=driver, first_name, last_name, school=school2)\n",
    "    \n",
    "    driver.find_element_by_id('advanced-search').click()\n",
    "    time.sleep(random.gauss(1.1, .1))\n",
    "    \n",
    "    info = (entity_id, orig_name, grad_year, business_title, employer, first_name, last_name, num_results, scraped_name, summary_position,\n",
    "            current_position, current_company, current_location,\n",
    "            parsed_education_text, parsed_work_experience, name_match, school_match, year_match, employer_match)\n",
    "    scraped_info.append(list(info))\n"
   ]
  },
  {
   "cell_type": "code",
   "execution_count": 34,
   "metadata": {
    "collapsed": true
   },
   "outputs": [],
   "source": [
    "with open('results/358-476/unfound/unfoundresults358-476.csv', 'w') as output:\n",
    "    scraper_writer = csv.writer(output)\n",
    "    scraper_writer.writerow(['ENTITY_ID_NUMBER','PREF_MAIL_NAME','YEAR1','BUSINESS_TITLE','EMPLOYER',\n",
    "                    'first_name','last_name','No. Search Results','Search Results Name',\n",
    "                    'Search Results Work Summary', 'Current Position','Current Company','Current Location',\n",
    "                    'Education Experience','Work Experience','Name Match','School Match','Year Match',\n",
    "                    'Employer Match'])\n",
    "    for row in scraped_info:\n",
    "        scraper_writer.writerow(row)"
   ]
  },
  {
   "cell_type": "code",
   "execution_count": 35,
   "metadata": {
    "collapsed": true
   },
   "outputs": [],
   "source": [
    "with open('results/358-476/unfound/unfound.csv', 'w') as no_output:\n",
    "    scraper_writer = csv.writer(no_output)\n",
    "    scraper_writer.writerow(['ENTITY_ID_NUMBER','PREF_MAIL_NAME','YEAR1','BUSINESS_TITLE','EMPLOYER',\n",
    "                    'first_name','last_name'])\n",
    "    for row in unfound_info:\n",
    "        scraper_writer.writerow(row)"
   ]
  },
  {
   "cell_type": "code",
   "execution_count": 36,
   "metadata": {
    "collapsed": true
   },
   "outputs": [],
   "source": [
    "with open('results/358-476/unfound/no_year_match.csv', 'w') as no_year_match:\n",
    "    scraper_writer = csv.writer(no_year_match)\n",
    "    scraper_writer.writerow(['ENTITY_ID_NUMBER','PREF_MAIL_NAME','YEAR1','BUSINESS_TITLE','EMPLOYER',\n",
    "                    'first_name','last_name'])\n",
    "    for row in unyearmatch_info:\n",
    "        scraper_writer.writerow(row)"
   ]
  }
 ],
 "metadata": {
  "kernelspec": {
   "display_name": "Python 3",
   "language": "python",
   "name": "python3"
  },
  "language_info": {
   "codemirror_mode": {
    "name": "ipython",
    "version": 3
   },
   "file_extension": ".py",
   "mimetype": "text/x-python",
   "name": "python",
   "nbconvert_exporter": "python",
   "pygments_lexer": "ipython3",
   "version": "3.5.1"
  }
 },
 "nbformat": 4,
 "nbformat_minor": 0
}

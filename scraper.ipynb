{
 "cells": [
  {
   "cell_type": "code",
   "execution_count": 80,
   "metadata": {
    "collapsed": false
   },
   "outputs": [],
   "source": [
    "from selenium import webdriver\n",
    "import csv\n",
    "import time\n",
    "import random"
   ]
  },
  {
   "cell_type": "code",
   "execution_count": 4,
   "metadata": {
    "collapsed": false
   },
   "outputs": [],
   "source": [
    "search_list = []\n",
    "#input = pd.read_csv('ten_sample.csv')\n",
    "with open('ten_sample.csv', 'r') as input:\n",
    "    for row in input:\n",
    "        search_list.append(row)\n",
    "        "
   ]
  },
  {
   "cell_type": "code",
   "execution_count": 24,
   "metadata": {
    "collapsed": false
   },
   "outputs": [
    {
     "data": {
      "text/plain": [
       "'\"First\\tLast\\tClass\"\\n'"
      ]
     },
     "execution_count": 24,
     "metadata": {},
     "output_type": "execute_result"
    }
   ],
   "source": [
    "search_list.pop(0)"
   ]
  },
  {
   "cell_type": "code",
   "execution_count": 27,
   "metadata": {
    "collapsed": true
   },
   "outputs": [],
   "source": [
    "driver = webdriver.Chrome()"
   ]
  },
  {
   "cell_type": "code",
   "execution_count": 28,
   "metadata": {
    "collapsed": true
   },
   "outputs": [],
   "source": [
    "url = 'https://www.linkedin.com/'\n",
    "username = 'hbb3xe@virginia.edu'\n",
    "password = 'S+zMKr5o'"
   ]
  },
  {
   "cell_type": "code",
   "execution_count": 29,
   "metadata": {
    "collapsed": true
   },
   "outputs": [],
   "source": [
    "driver.get(url)"
   ]
  },
  {
   "cell_type": "code",
   "execution_count": 30,
   "metadata": {
    "collapsed": true
   },
   "outputs": [],
   "source": [
    "driver.find_element_by_id('login-email').send_keys(username)\n",
    "driver.find_element_by_id('login-password').send_keys(password)"
   ]
  },
  {
   "cell_type": "code",
   "execution_count": 31,
   "metadata": {
    "collapsed": true
   },
   "outputs": [],
   "source": [
    "driver.find_element_by_name('submit').click()"
   ]
  },
  {
   "cell_type": "code",
   "execution_count": 32,
   "metadata": {
    "collapsed": true
   },
   "outputs": [],
   "source": [
    "driver.find_element_by_id('advanced-search').click()"
   ]
  },
  {
   "cell_type": "code",
   "execution_count": 34,
   "metadata": {
    "collapsed": true
   },
   "outputs": [],
   "source": [
    "first = 'Sutton'\n",
    "last = 'White'\n",
    "school = 'University of Virginia'\n",
    "year = '2016'"
   ]
  },
  {
   "cell_type": "code",
   "execution_count": 35,
   "metadata": {
    "collapsed": true
   },
   "outputs": [],
   "source": [
    "driver.find_element_by_id('advs-firstName').send_keys(first)\n",
    "driver.find_element_by_id('advs-lastName').send_keys(last)\n",
    "driver.find_element_by_id('advs-school').send_keys(school)"
   ]
  },
  {
   "cell_type": "code",
   "execution_count": 36,
   "metadata": {
    "collapsed": true
   },
   "outputs": [],
   "source": [
    "driver.find_element_by_class_name('submit-advs').click()"
   ]
  },
  {
   "cell_type": "code",
   "execution_count": 38,
   "metadata": {
    "collapsed": false
   },
   "outputs": [],
   "source": [
    "results_summary = driver.find_element_by_id('results-container').text.split('\\n')"
   ]
  },
  {
   "cell_type": "code",
   "execution_count": 40,
   "metadata": {
    "collapsed": false
   },
   "outputs": [],
   "source": [
    "r_name = results_summary[0].strip('1st')\n",
    "r_position = results_summary[1]"
   ]
  },
  {
   "cell_type": "code",
   "execution_count": 42,
   "metadata": {
    "collapsed": false
   },
   "outputs": [
    {
     "data": {
      "text/plain": [
       "'Incoming Account Executive at Fisher Investments'"
      ]
     },
     "execution_count": 42,
     "metadata": {},
     "output_type": "execute_result"
    }
   ],
   "source": []
  },
  {
   "cell_type": "code",
   "execution_count": 44,
   "metadata": {
    "collapsed": false
   },
   "outputs": [],
   "source": [
    "num_results = driver.find_element_by_class_name('search-info').text.split('\\n')[0]"
   ]
  },
  {
   "cell_type": "code",
   "execution_count": 47,
   "metadata": {
    "collapsed": false
   },
   "outputs": [],
   "source": [
    "num_results = num_results.strip(\" results\")"
   ]
  },
  {
   "cell_type": "code",
   "execution_count": 53,
   "metadata": {
    "collapsed": false
   },
   "outputs": [],
   "source": [
    "num_results = int(num_results)"
   ]
  },
  {
   "cell_type": "code",
   "execution_count": 55,
   "metadata": {
    "collapsed": false
   },
   "outputs": [
    {
     "name": "stdout",
     "output_type": "stream",
     "text": [
      "HI\n"
     ]
    }
   ],
   "source": [
    "if num_results is 1:\n",
    "    print('HI')"
   ]
  },
  {
   "cell_type": "code",
   "execution_count": 52,
   "metadata": {
    "collapsed": false
   },
   "outputs": [
    {
     "data": {
      "text/plain": [
       "'1'"
      ]
     },
     "execution_count": 52,
     "metadata": {},
     "output_type": "execute_result"
    }
   ],
   "source": []
  },
  {
   "cell_type": "code",
   "execution_count": 56,
   "metadata": {
    "collapsed": true
   },
   "outputs": [],
   "source": [
    "driver.find_element_by_css_selector('a.title.main-headline').click()"
   ]
  },
  {
   "cell_type": "code",
   "execution_count": 57,
   "metadata": {
    "collapsed": true
   },
   "outputs": [],
   "source": [
    "work_experience = driver.find_element_by_class_name('background-section').text"
   ]
  },
  {
   "cell_type": "code",
   "execution_count": 59,
   "metadata": {
    "collapsed": false
   },
   "outputs": [],
   "source": [
    "work_experience = driver.find_element_by_id('background-experience-container').text"
   ]
  },
  {
   "cell_type": "code",
   "execution_count": 60,
   "metadata": {
    "collapsed": false
   },
   "outputs": [
    {
     "data": {
      "text/plain": [
       "'Experience\\nAccount Executive\\nFisher Investments\\nFebruary 2016 – Present (5 months)Camas, Washington\\nI will begin this position in July after graduation.\\nInvestment Analysis Extern\\nRedmond Asset Management, LLC\\nJune 2015 – August 2015 (3 months)Richmond, Virginia\\n-Researched and presented potential growth and value investment additions to the Small Cap Core Growth composite, the GARP composite, and the All Cap, Equity Income and Global Strategies composite, amounting to roughly $255 million in total assets under management\\n\\n-Analyzed annual reports, financial statements, SEC 10K filings, and domestic and international financial markets\\nInvestment Banking Intern\\nDickinson Williams & Company\\nJuly 2015 – July 2015 (1 month)Richmond, Virginia Area\\n-Used S&P Capital IQ, Microsoft Excel, and data from the U.S. Bureau of Economic Analysis and the St. Louis Federal Reserve to compose financial reports and spreadsheets describing economic trends, capital markets, and M&A activity\\nInvestment Strategist Intern\\nSalomon & Ludwin,LLC\\nJune 2015 – June 2015 (1 month)Richmond, Virginia\\n-Developed TriggerPoint and Total Market Strategy, two financial plans that make up $500 million of the roughly $750 million in total assets under management\\n\\n-Oversaw the procedures and methods necessary for estate and trust planning, tax filings, and income preservation customized for clients based on individual circumstances\\nSummer Marketing/Social Media Intern and English Translator\\nWay To Blue\\nJune 2014 – August 2014 (3 months)Madrid, Spain\\n-Communicated solely in Spanish with co-workers and served as the English translator for clients and Way to Blue branches in London, England and Sydney, Australia\\n\\n-Completed five international research and marketing reports weekly that were sent to large entertainment corporations, including Walt Disney, Sony, and Universal\\n\\n-Provided marketing suggestions for movie trailers, video games, and film releases\\nEquity and Fixed Income Research Intern\\nDavenport & Company LLC\\nMay 2013 – August 2013 (4 months)Richmond, VA\\n-Assisted the VP of Investments and Asset Management Division with equity and fixed income research for various portfolios amounting to $200 million\\n\\n-Used Bloomberg Professional, Credit Suisse, Thomson One Analytics, Value Line, and MarketScope Advisor as resources for research and daily global news\\nMaintenance Worker\\nIntegrity Landscaping Solutions\\nMay 2011 – August 2012 (1 year 4 months)Richmond, VA\\n-Maintained commercial and residential properties and constructed patios and garden beds\\n\\n-Worked 40 to 50 hours each week and communicated with co-workers in both English and Spanish\\nVeterinary Internship\\nVeterinary Referral and Critical Care Center\\nMarch 2011 – April 2011 (2 months)Manakin Sabot, Virginia\\n-Observed the emergency treatment and specialty care of several hundred animals each week\\n\\n-Aided in procedures including cardiology, canine physical rehabilitation, digital radiology, ultrasound, and chemotherapy'"
      ]
     },
     "execution_count": 60,
     "metadata": {},
     "output_type": "execute_result"
    }
   ],
   "source": [
    "work_experience"
   ]
  },
  {
   "cell_type": "code",
   "execution_count": 61,
   "metadata": {
    "collapsed": true
   },
   "outputs": [],
   "source": [
    "driver.find_element_by_id('advanced-search').click()"
   ]
  },
  {
   "cell_type": "code",
   "execution_count": null,
   "metadata": {
    "collapsed": true
   },
   "outputs": [],
   "source": []
  },
  {
   "cell_type": "code",
   "execution_count": 84,
   "metadata": {
    "collapsed": false
   },
   "outputs": [
    {
     "name": "stdout",
     "output_type": "stream",
     "text": [
      "Processing: Sutton White 2016\"\n",
      "\n",
      "Processing: Kevin Hsu 2014\"\n",
      "\n",
      "Processing: Ryan Ho 2014\"\n",
      "\n",
      "Processing: Devon Holland 2014\"\n",
      "\n",
      "Processing: Ajay Sundar 2014\"\n",
      "\n",
      "Processing: Graham Campbell 2014\"\n",
      "\n",
      "Processing: David Plon 2011\"\n",
      "\n",
      "Processing: Peter Lizza 2014\"\n",
      "\n",
      "Processing: Alex Sullivan 2014\"\n"
     ]
    }
   ],
   "source": [
    "scraped_info = []\n",
    "for row in search_list:\n",
    "    first, last, year = row.split('\\t')\n",
    "    first = first.strip(\"\\\"\")\n",
    "    last = last.strip(\"\\\"\\n\")\n",
    "    print(\"Processing: {} {} {}\".format(first, last, year))\n",
    "    driver.find_element_by_id('advanced-search').click()\n",
    "    time.sleep(random.gauss(1.5, .5))\n",
    "    \n",
    "    driver.find_element_by_id('advs-firstName').send_keys(first)\n",
    "    driver.find_element_by_id('advs-lastName').send_keys(last)\n",
    "    driver.find_element_by_id('advs-school').send_keys(school)\n",
    "    driver.find_element_by_class_name('submit-advs').click()\n",
    "    time.sleep(random.gauss(1.2, .5))\n",
    "    \n",
    "    num_results = driver.find_element_by_class_name('search-info').text.split('\\n')[0]\n",
    "    num_results = num_results.strip(\" results\")\n",
    "    #num_results = int(num_results)\n",
    "    \n",
    "    results_summary = driver.find_element_by_id('results-container').text.split('\\n')\n",
    "    summary_name = results_summary[0].strip('1st')\n",
    "    summary_position = results_summary[1]\n",
    "    \n",
    "    driver.find_element_by_css_selector('a.title.main-headline').click()\n",
    "    time.sleep(random.gauss(1.5, .5))\n",
    "    work_experience = driver.find_element_by_id('background-experience-container').text\n",
    "    \n",
    "    \n",
    "    driver.find_element_by_id('advanced-search').click()\n",
    "    time.sleep(random.gauss(1.5, .5))\n",
    "    \n",
    "    info = (first, last, year, num_results, summary_name, summary_position, work_experience)\n",
    "    scraped_info.append(info)\n",
    "    "
   ]
  },
  {
   "cell_type": "code",
   "execution_count": 86,
   "metadata": {
    "collapsed": true
   },
   "outputs": [],
   "source": [
    "driver.close()"
   ]
  },
  {
   "cell_type": "code",
   "execution_count": 85,
   "metadata": {
    "collapsed": false
   },
   "outputs": [
    {
     "data": {
      "text/plain": [
       "[('Sutton',\n",
       "  'White',\n",
       "  '2016\"\\n',\n",
       "  '1',\n",
       "  'Sutton White',\n",
       "  'Incoming Account Executive at Fisher Investments',\n",
       "  'Experience\\nAccount Executive\\nFisher Investments\\nFebruary 2016 – Present (5 months)Camas, Washington\\nI will begin this position in July after graduation.\\nInvestment Analysis Extern\\nRedmond Asset Management, LLC\\nJune 2015 – August 2015 (3 months)Richmond, Virginia\\n-Researched and presented potential growth and value investment additions to the Small Cap Core Growth composite, the GARP composite, and the All Cap, Equity Income and Global Strategies composite, amounting to roughly $255 million in total assets under management\\n\\n-Analyzed annual reports, financial statements, SEC 10K filings, and domestic and international financial markets\\nInvestment Banking Intern\\nDickinson Williams & Company\\nJuly 2015 – July 2015 (1 month)Richmond, Virginia Area\\n-Used S&P Capital IQ, Microsoft Excel, and data from the U.S. Bureau of Economic Analysis and the St. Louis Federal Reserve to compose financial reports and spreadsheets describing economic trends, capital markets, and M&A activity\\nInvestment Strategist Intern\\nSalomon & Ludwin,LLC\\nJune 2015 – June 2015 (1 month)Richmond, Virginia\\n-Developed TriggerPoint and Total Market Strategy, two financial plans that make up $500 million of the roughly $750 million in total assets under management\\n\\n-Oversaw the procedures and methods necessary for estate and trust planning, tax filings, and income preservation customized for clients based on individual circumstances\\nSummer Marketing/Social Media Intern and English Translator\\nWay To Blue\\nJune 2014 – August 2014 (3 months)Madrid, Spain\\n-Communicated solely in Spanish with co-workers and served as the English translator for clients and Way to Blue branches in London, England and Sydney, Australia\\n\\n-Completed five international research and marketing reports weekly that were sent to large entertainment corporations, including Walt Disney, Sony, and Universal\\n\\n-Provided marketing suggestions for movie trailers, video games, and film releases\\nEquity and Fixed Income Research Intern\\nDavenport & Company LLC\\nMay 2013 – August 2013 (4 months)Richmond, VA\\n-Assisted the VP of Investments and Asset Management Division with equity and fixed income research for various portfolios amounting to $200 million\\n\\n-Used Bloomberg Professional, Credit Suisse, Thomson One Analytics, Value Line, and MarketScope Advisor as resources for research and daily global news\\nMaintenance Worker\\nIntegrity Landscaping Solutions\\nMay 2011 – August 2012 (1 year 4 months)Richmond, VA\\n-Maintained commercial and residential properties and constructed patios and garden beds\\n\\n-Worked 40 to 50 hours each week and communicated with co-workers in both English and Spanish\\nVeterinary Internship\\nVeterinary Referral and Critical Care Center\\nMarch 2011 – April 2011 (2 months)Manakin Sabot, Virginia\\n-Observed the emergency treatment and specialty care of several hundred animals each week\\n\\n-Aided in procedures including cardiology, canine physical rehabilitation, digital radiology, ultrasound, and chemotherapy'),\n",
       " ('Kevin',\n",
       "  'Hsu',\n",
       "  '2014\"\\n',\n",
       "  '3',\n",
       "  'Kevin HsuPremium Badge',\n",
       "  'Private Equity Associate at Brightstar Capital Partners',\n",
       "  'Experience\\nPrivate Equity Associate\\nBrightstar Capital Partners\\nFebruary 2016 – Present (5 months)Greater New York City Area\\nBrightstar Capital Partners invests in closely-held middle market U.S. companies. Brightstar provides active value creation strategies by focusing on sourcing, executing and creating proprietary private equity investments through its network of relationships. These networks extend from the Brightstar team to investors to its portfolio companies to third party advisors. This connectivity is a key source of opportunity and, therefore, value for all partners.\\nInvestment Banking Analyst\\nPerella Weinberg Partners\\nJuly 2014 – January 2016 (1 year 7 months)Greater New York City Area\\nM&A / Restructuring\\nInvestment Banking Summer Analyst\\nPerella Weinberg Partners\\nJune 2013 – August 2013 (3 months)Greater New York City Area\\nPrivate Wealth Managment Intern\\nTallus Wealth Management\\nJanuary 2012 – March 2012 (3 months)Seattle, Washington\\nSummer Accounting Intern\\nPacific Accounting Services, Inc.\\nJune 2011 – September 2011 (4 months)Tamuning, Guam'),\n",
       " ('Ryan',\n",
       "  'Ho',\n",
       "  '2014\"\\n',\n",
       "  '1',\n",
       "  'Ryan J Ho',\n",
       "  'Software Developer - Former McKinsey Consultant',\n",
       "  'Experience\\nSoftware Developer\\nDev Bootcamp\\nSeptember 2015 – February 2016 (6 months)San Francisco Bay Area\\n• Completed 19 week, 1000+ hours intensive web development training program acquiring skills in software development and user experience design\\n• Software skills: Ruby, Rails, Sinatra, JavaScript, jQuery, AJAX, AngularJS, ReactJS, HTML5, CSS3, SQL, Git and Source Control, Test-Driven-Development (RSpec, Jasmine, Capybara), Heroku and Agile Development\\n• User Experience (UX) skills: user stories formulation, wireframing, MVP and design thinking principles (research, problem definition, ideate, prototype, testing and execution)\\n• Developed software applications using Model-View-Controller architecture, RESTful routing patterns and object-oriented programming (OOP) principles\\n• Used Git and Github for distributed workflow across project teams\\nManagement Consultant\\nMcKinsey & Company\\nSeptember 2014 – January 2016 (1 year 5 months)Singapore\\nManagement consultant, advising leading companies and governments on a range of topics including strategy, organization, marketing & sales, corporate finance, etc.\\n\\nProjects include:\\n• Developed digital strategy and supported organizational transformation, resourcing and capability building for a global consumer brand\\n• Formulated digital strategy and roadmap for a regional utilities company\\n• Analyzed and evaluated key drivers of successful digital transformations in the banking, telecommunications and retail/e-commerce sectors\\n• Developed short-term and long-term spectrum strategy for a major telco operator in Asia\\n• Developed a comprehensive industry cost model for the telco industry to analyze impact of increasing increasing data demand on cost of capacity\\n• Performed strategy assessment of energy industry for a government ministry in Asia to aid policy formulation\\n• Conducted comprehensive research, developed key insights and published research report of the regional travel industry for a government agency\\nAdvisory Summer Intern (Information Technology Risk and Assurance)\\nErnst & Young\\nJune 2013 – August 2013 (3 months)San Francisco Bay Area\\n• Performed enterprise risk assessments and controls set-up for Fortune 500 companies to optimize performance\\n• Created company analysis reports used in Bay Area client development strategy for advisory managing partner\\nCo-Founder\\nFirst Class Tutors\\nOctober 2010 – July 2012 (1 year 10 months)Singapore\\n• First Class Tutors provides premium tutor matching services in Singapore.\\n• Developed a unique business model that reduced cash conversion cycle to more than 50% lower than industry\\n(Open)1 honor or award'),\n",
       " ('Devon',\n",
       "  'Holland',\n",
       "  '2014\"\\n',\n",
       "  '1',\n",
       "  'Devon Holland',\n",
       "  'Analyst at Blackstone Group',\n",
       "  'Experience\\nAnalyst\\nThe Blackstone Group\\nJune 2014 – Present (2 years 1 month)\\nSummer Analyst\\nThe Blackstone Group\\nJune 2013 – August 2013 (3 months)Greater New York City Area\\nAssistant Examiner Intern\\nFederal Reserve Bank of Richmond\\nMay 2012 – July 2012 (3 months)Richmond, Virginia Area'),\n",
       " ('Ajay',\n",
       "  'Sundar',\n",
       "  '2014\"\\n',\n",
       "  '1',\n",
       "  'Ajay Sundar',\n",
       "  'Investment Analyst at Starboard Value LP',\n",
       "  'Experience\\nAssociate, Investment Analyst\\nStarboard Value LP\\nAugust 2015 – Present (11 months)Greater New York City Area\\nInvestment Banking Analyst\\nCiti\\nJune 2014 – July 2015 (1 year 2 months)New York, NY\\nGlobal Consumer/Retail Group\\nInvestment Banking Summer Analyst\\nCiti\\nJune 2013 – August 2013 (3 months)New York, NY\\nGlobal Consumer/Retail Group\\nM&A Boot Camp Intern\\nHarris Williams & Co.\\nMay 2013 – May 2013 (1 month)Richmond, VA\\nUnderwriting Intern\\nAllianz Global Assistance\\nJune 2012 – August 2012 (3 months)Richmond, Virginia Area\\nResearch Intern\\nEthics Metrics LLC\\nJune 2011 – July 2012 (1 year 2 months)\\nIntern\\nDominion Virginia Power\\nJune 2011 – August 2011 (3 months)'),\n",
       " ('Graham',\n",
       "  'Campbell',\n",
       "  '2014\"\\n',\n",
       "  '2',\n",
       "  'Graham CampbellPremium Badge',\n",
       "  'Crafting nifty everyday solutions',\n",
       "  \"Experience\\nThe Works Associate\\nKnoxville Entrepreneur Center\\nApril 2016 – Present (3 months)Knoxville, Tennessee Area\\nKEC turns people with ideas into people with businesses.\\n\\nKEC inspires, encourages, and enables entrepreneurs by adding value to their business ideas. Located in the center of Knoxville, TN, in Market Square, we are fostering innovation, creativity and job growth within our community. We consult, educate, and connect resources.\\nBusiness Development Associate\\nMadKudu\\nSeptember 2015 – January 2016 (5 months)San Francisco Bay Area\\nMadKudu helps SaaS companies increase trial-to-paid conversions, upsells and customer retention.\\n\\nMadKudu analyzes customer behavior in your app and uses third-party data to find out what truly makes people engage. It then predicts which customers are ready to buy or churn and how much they will be spending. It recommends actionable next steps to increase conversions and engagement. Learn more at madkudu.com!\\nAssociate\\nTechstars\\nFebruary 2015 – September 2015 (8 months)Boulder, Colorado\\nTechstars is a mentorship-driven startup accelerator program.\\n\\nTechstars provides seed funding, intensive mentorship, and an amazing network of mentors and alumni for equity in your company.\\n(Open)1 recommendation\\nTodd Saunders\\nCEO at AdHawk\\nWorked with Graham a bunch while we were in Techstars. He is an extremely hard worker and always goes above and beyond expectations. Would highly recommend him for any team. View\\nNational Deal Data Coordinator\\nCooley\\nSeptember 2014 – November 2014 (3 months)Greater Denver Area\\nCooley solves legal issues for entrepreneurs, investors, financial institutions and established companies.\\n\\nThe Emerging Companies Group works with startups to launch dynamic new ventures and take them forward. Cooley has been at it since the venture industry began, having formed America's first venture fund in Silicon Valley.\\nFinance & Accounting Intern\\nSuperfly\\nJune 2013 – August 2013 (3 months)Greater New York City Area\\nWrangler\\nMoose Head Ranch\\nMay 2012 – August 2012 (4 months)Casper, Wyoming Area\"),\n",
       " ('David',\n",
       "  'Plon',\n",
       "  '2011\"\\n',\n",
       "  '1',\n",
       "  'David Plon',\n",
       "  'MBA Student at Stanford Graduate School of Business',\n",
       "  'Experience\\nMBA Student\\nStanford Graduate School of Business\\nAugust 2015 – Present (11 months)Palo Alto, California\\nAnalyst\\nSlate Path Capital\\nMay 2012 – August 2015 (3 years 4 months)New York\\nAnalyst for Special Situations Group\\nBarclays Capital\\nJuly 2011 – April 2012 (10 months)\\nSummer Analyst\\nBarclays Capital\\nJune 2010 – August 2010 (3 months)\\nAnalyst Boot Camp\\nHarris Williams & Company\\n2010 – January 2010 (less than a year)\\nSummer Analyst for Development and Investment\\nSloan Milby Real Estate Partners\\nJune 2009 – September 2009 (4 months)'),\n",
       " ('Peter',\n",
       "  'Lizza',\n",
       "  '2014\"\\n',\n",
       "  '1',\n",
       "  'Peter Lizza',\n",
       "  'Investment Banking Analyst at Deloitte Corporate Finance',\n",
       "  'Experience\\nInvestment Banking Analyst\\nDeloitte Corporate Finance\\nJuly 2014 – Present (2 years)Charlotte, North Carolina Area\\n(Formerly McColl Partners)\\n\\nPrimary responsibilities include: Constructing detailed financial analyses (leveraged buyout, discounted cash flow, comparable public companies, and precedent transactions) to value companies and evaluate investor returns; drafting key transaction marketing materials, including offering memoranda and management presentations; reviewing transaction documents, including confidentiality agreements, indications of interest, and letters of intent; researching, identifying, and contacting potential financial and strategic investors; and managing due diligence processes by coordinating with senior management, potential investors, legal counsel, accountants, and other third-party advisors.\\nIntern\\nGrowthCap\\nNovember 2013 – May 2014 (7 months)\\nGrowthCap is the premier deal network for emerging growth private companies and institutional investors. GrowthCap helps company owners and executives connect directly with private equity and debt investors to efficiently raise the capital they need to meet their specific funding objectives.\\nSummer Analyst\\nMcColl Partners\\nJune 2013 – August 2013 (3 months)Charlotte, North Carolina Area\\nResident Advisor\\nUniversity of Virginia\\nAugust 2012 – May 2013 (10 months)\\nFinance Intern\\nGeneral Dynamics Information Technology\\nJune 2011 – August 2012 (1 year 3 months)Herndon, VA'),\n",
       " ('Alex',\n",
       "  'Sullivan',\n",
       "  '2014\"',\n",
       "  '2',\n",
       "  'Alexandra Apple Sullivan',\n",
       "  'Corporate Development at VMware',\n",
       "  'Experience\\nCorporate Development\\nVMware\\nMay 2016 – Present (2 months)San Francisco Bay Area\\nGrowth Equity Investor\\nLevel Equity\\nJune 2014 – May 2016 (2 years)New York, New York\\nStrategy Consultant\\nWells Fargo\\n2013 – 2013 (less than a year)\\nTrends Researcher\\nPSFK\\n2012 – 2012 (less than a year)\\nResearch Assistant, Behavioral Economics Lab\\nDuke University\\n2009 – 2009 (less than a year)')]"
      ]
     },
     "execution_count": 85,
     "metadata": {},
     "output_type": "execute_result"
    }
   ],
   "source": [
    "scraped_info"
   ]
  },
  {
   "cell_type": "code",
   "execution_count": 88,
   "metadata": {
    "collapsed": false
   },
   "outputs": [],
   "source": [
    "with open('results.csv', 'w') as output:\n",
    "    scraper_writer = csv.writer(output)\n",
    "    scraper_writer.writerow(['First','Last','Year','No. Search Results','Search Results Name','Search Results Work Summary'\n",
    "                            ,'Work Experience'])\n",
    "    for row in scraped_info:\n",
    "        scraper_writer.writerow(row)"
   ]
  },
  {
   "cell_type": "code",
   "execution_count": 15,
   "metadata": {
    "collapsed": false
   },
   "outputs": [
    {
     "data": {
      "text/plain": [
       "'Class\"\\n'"
      ]
     },
     "execution_count": 15,
     "metadata": {},
     "output_type": "execute_result"
    }
   ],
   "source": []
  },
  {
   "cell_type": "code",
   "execution_count": 16,
   "metadata": {
    "collapsed": false
   },
   "outputs": [
    {
     "data": {
      "text/plain": [
       "'\"First'"
      ]
     },
     "execution_count": 16,
     "metadata": {},
     "output_type": "execute_result"
    }
   ],
   "source": []
  },
  {
   "cell_type": "code",
   "execution_count": 20,
   "metadata": {
    "collapsed": false
   },
   "outputs": [
    {
     "data": {
      "text/plain": [
       "'First'"
      ]
     },
     "execution_count": 20,
     "metadata": {},
     "output_type": "execute_result"
    }
   ],
   "source": []
  },
  {
   "cell_type": "code",
   "execution_count": null,
   "metadata": {
    "collapsed": false
   },
   "outputs": [],
   "source": []
  },
  {
   "cell_type": "code",
   "execution_count": 78,
   "metadata": {
    "collapsed": false
   },
   "outputs": [
    {
     "data": {
      "text/plain": [
       "2.266993028780199"
      ]
     },
     "execution_count": 78,
     "metadata": {},
     "output_type": "execute_result"
    }
   ],
   "source": []
  },
  {
   "cell_type": "code",
   "execution_count": null,
   "metadata": {
    "collapsed": true
   },
   "outputs": [],
   "source": []
  }
 ],
 "metadata": {
  "kernelspec": {
   "display_name": "Python 3",
   "language": "python",
   "name": "python3"
  },
  "language_info": {
   "codemirror_mode": {
    "name": "ipython",
    "version": 3
   },
   "file_extension": ".py",
   "mimetype": "text/x-python",
   "name": "python",
   "nbconvert_exporter": "python",
   "pygments_lexer": "ipython3",
   "version": "3.5.1"
  }
 },
 "nbformat": 4,
 "nbformat_minor": 0
}

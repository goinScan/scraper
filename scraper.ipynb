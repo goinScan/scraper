{
 "cells": [
  {
   "cell_type": "markdown",
   "metadata": {},
   "source": [
    "Goal for 6/25\n",
    "    - add logic for checking year\n",
    "    - add logic for comparing education\n",
    "    - add logic to parse work summary"
   ]
  },
  {
   "cell_type": "code",
   "execution_count": 2,
   "metadata": {
    "collapsed": false
   },
   "outputs": [],
   "source": [
    "from selenium import webdriver\n",
    "import csv\n",
    "import time\n",
    "import random"
   ]
  },
  {
   "cell_type": "code",
   "execution_count": 88,
   "metadata": {
    "collapsed": false
   },
   "outputs": [
    {
     "data": {
      "text/plain": [
       "'\"First\\tLast\\tClass\"\\n'"
      ]
     },
     "execution_count": 88,
     "metadata": {},
     "output_type": "execute_result"
    }
   ],
   "source": [
    "search_list = []\n",
    "#input = pd.read_csv('ten_sample.csv')\n",
    "with open('hundo_sample.csv', 'r') as input:\n",
    "    for row in input:\n",
    "        search_list.append(row)\n",
    "search_list.pop(0)        "
   ]
  },
  {
   "cell_type": "code",
   "execution_count": 3,
   "metadata": {
    "collapsed": false
   },
   "outputs": [],
   "source": [
    "driver = webdriver.Chrome()"
   ]
  },
  {
   "cell_type": "code",
   "execution_count": 4,
   "metadata": {
    "collapsed": true
   },
   "outputs": [],
   "source": [
    "url = 'https://www.linkedin.com/'\n",
    "username = 'hbb3xe@virginia.edu'\n",
    "password = 'S+zMKr5o'"
   ]
  },
  {
   "cell_type": "code",
   "execution_count": 5,
   "metadata": {
    "collapsed": true
   },
   "outputs": [],
   "source": [
    "driver.get(url)"
   ]
  },
  {
   "cell_type": "code",
   "execution_count": 91,
   "metadata": {
    "collapsed": true
   },
   "outputs": [],
   "source": [
    "driver.find_element_by_id('login-email').send_keys(username)\n",
    "driver.find_element_by_id('login-password').send_keys(password)"
   ]
  },
  {
   "cell_type": "code",
   "execution_count": 92,
   "metadata": {
    "collapsed": true
   },
   "outputs": [],
   "source": [
    "driver.find_element_by_name('submit').click()"
   ]
  },
  {
   "cell_type": "code",
   "execution_count": 93,
   "metadata": {
    "collapsed": true
   },
   "outputs": [],
   "source": [
    "driver.find_element_by_id('advanced-search').click()"
   ]
  },
  {
   "cell_type": "code",
   "execution_count": 77,
   "metadata": {
    "collapsed": true
   },
   "outputs": [],
   "source": [
    "school = 'University of Virginia'\n",
    "school2 = 'McIntire'"
   ]
  },
  {
   "cell_type": "code",
   "execution_count": 94,
   "metadata": {
    "collapsed": false
   },
   "outputs": [
    {
     "name": "stdout",
     "output_type": "stream",
     "text": [
      "Processing: \"Sutton White 2016\n",
      "Processing: \"Kevin Hsu 2014\n",
      "Processing: \"Ryan Ho 2014\n",
      "Processing: \"Devon Holland 2014\n",
      "Processing: \"Ajay Sundar 2014\n",
      "Processing: \"Graham Campbell 2014\n",
      "Processing: \"David Plon 2011\n",
      "Processing: \"Peter Lizza 2014\n",
      "Processing: \"Alex Sullivan 2014\n",
      "Processing: \"Stephen West 2014\n",
      "Processing: \"Rachel Harvey 2012\n",
      "Processing: \"Kyle Bye 2014\n",
      "Processing: \"Peter Restrepo 2014\n",
      "Processing: \"Brian Ohlhausen 2014\n",
      "Processing: \"Scott Lucas 2014\n",
      "Processing: \"Nicholas Jones 2014\n",
      "Processing: \"John Tubesing 2014\n",
      "Processing: \"William Cozean 2011\n",
      "Processing: \"Julian El-Abidin 2013\n",
      "Processing: \"Eugene Chang 2014\n",
      "Processing: \"Christian Pinto 2017\n",
      "Processing: \"Connor Davis 2015\n",
      "Processing: \"Lex Alvarez 2014\n",
      "Processing: \"Thomas Randazzo 2014\n",
      "Processing: \"Anne Carter Blankenship 2014\n",
      "Processing: \"Dylan Lam 2014\n",
      "Processing: \"Shalaka Laxman 2014\n",
      "Processing: \"Kearby Chen 2009\n",
      "Processing: \"James Selph 2014\n",
      "Processing: \"David McGinley 2011\n",
      "Processing: \"Samraat Goel 2014\n",
      "Processing: \"Alexander Kesselring 2016\n",
      "Processing: \"Betzy Frentz 2010\n",
      "Processing: \"Eeshaan Sachatheva 2014\n",
      "Processing: \"Adam Reitelbach 2010\n",
      "Processing: \"Saori Okada 2014\n",
      "Processing: \"Mackenzie Griffin 2014\n",
      "Processing: \"Ishaan Khosla 2014\n",
      "Processing: \"James Humphrey 2017\n",
      "Processing: \"Kailun Zheng 2014\n",
      "Processing: \"Dylan Reiling 2014\n",
      "Processing: \"Kalika Nowlakha 2013\n",
      "Processing: \"Hannah Farmer 2014\n",
      "Processing: \"Arjun Chopra 2014\n",
      "Processing: \"Yin Liu 2014\n",
      "Processing: \"Heshuang Liang 2016\n",
      "Processing: \"Akshat Modi 2014\n",
      "Processing: \"Joseph Linzon 2015\n",
      "Processing: \"Jake Merrill 2014\n",
      "Processing: \"Nicholas Henriquez 2015\n",
      "Processing: \"Natasha Mighell 2014\n",
      "Processing: \"Katie Bean 2012\n",
      "Processing: \"Stephen Oklesson 2008\n",
      "Processing: \"Craig Greenberg 2010\n",
      "Processing: \"Joseph Coppola 2017\n",
      "Processing: \"Jaime Castello y Tickell 2014\n",
      "Processing: \"Selin Zenginkinet 2016\n",
      "Processing: \"Rob Griffon 2014\n",
      "Processing: \"Taylor Zolbe 2011\n",
      "Processing: \"Heidi Collins 2016\n",
      "Processing: \"Joe Xu 2016\n",
      "Processing: \"Michael Rusie 2014\n",
      "Processing: \"Ashleigh Rogers 2015\n",
      "Processing: \"Chris McNally-Anderson 2012\n",
      "Processing: \"Lara Luo 2014\n",
      "Processing: \"Alex Kent 2014\n",
      "Processing: \"Laura Pattison 2015\n",
      "Processing: \"Taytem Riley 2015\n",
      "Processing: \"Jared Hahn 2012\n",
      "Processing: \"Collin Christovich 2014\n",
      "Processing: \"Andrew Herrick 2016\n",
      "Processing: \"Jaimee Mackay 2014\n",
      "Processing: \"Ryan Whitney 2014\n",
      "Processing: \"Ryan Rechkemmer 2014\n",
      "Processing: \"Stuart Duke 2010\n",
      "Processing: \"Xiaolong Fan 2016\n",
      "Processing: \"Matthew Moore 2009\n",
      "Processing: \"Mary Wang 2013\n",
      "Processing: \"Kana Yoshizawa 2014\n",
      "Processing: \"Kelsey Haden 2012\n",
      "Processing: \"Arin Mitchell 2013\n",
      "Processing: \"Winnie Shuang Cai 2012\n",
      "Processing: \"Alexis He 2012\n",
      "Processing: \"Nathaniel Matthews 2012\n",
      "Processing: \"Marshall Burke 2012\n",
      "Processing: \"Andrea Kaplan 2013\n",
      "Processing: \"Cricket Roberts 2014\n",
      "Processing: \"Ryan Barr 2015\n",
      "Processing: \"Erin Holbrook 2015\n",
      "Processing: \"Connor MacKenzie 2014\n",
      "Processing: \"Tim Chen 2012\n",
      "Processing: \"Alan Zhao 2014\n",
      "Processing: \"Veni Dhir 2012\n",
      "Processing: \"Blake Balda 2015\n",
      "Processing: \"Natalie Knipp 2014\n",
      "Processing: \"Neale Walton 2016\n",
      "Processing: \"Kevin White 2013\n",
      "Processing: \"Kevin Carson 2002\n",
      "Processing: \"Jonathan Wulkan 2014\"\n"
     ]
    }
   ],
   "source": [
    "scraped_info = []\n",
    "for row in search_list:\n",
    "    first, last, year = row.split('\\t')\n",
    "    first_name = first.replace('\"', '')\n",
    "    last_name = last.strip(\"\\\"\\n\")\n",
    "    year = year.replace('\"\\n', '')\n",
    "    print(\"Processing: {} {} {}\".format(first, last, year))\n",
    "    driver.find_element_by_id('advanced-search').click()\n",
    "    time.sleep(random.gauss(1.5, .5))\n",
    "    \n",
    "    driver.find_element_by_id('advs-firstName').clear()\n",
    "    driver.find_element_by_id('advs-lastName').clear()\n",
    "    driver.find_element_by_id('advs-school').clear()\n",
    "    \n",
    "    driver.find_element_by_id('advs-firstName').send_keys(first_name)\n",
    "    driver.find_element_by_id('advs-lastName').send_keys(last_name)\n",
    "    driver.find_element_by_id('advs-school').send_keys(school)\n",
    "    driver.find_element_by_class_name('submit-advs').click()\n",
    "    time.sleep(random.gauss(4.2, .5))\n",
    "    \n",
    "    num_results = driver.find_element_by_class_name('search-info').text.split('\\n')[0]\n",
    "    num_results = num_results.strip(\" results\")\n",
    "    #num_results = int(num_results)\n",
    "    if num_results == '0':\n",
    "        info = 'Could not scrape' + first_name + ' ' + last_name\n",
    "        scraped_info.append([info])\n",
    "        continue\n",
    "    \n",
    "    results_summary = driver.find_element_by_id('results-container').text.split('\\n')\n",
    "    #print('results summary: {}'.format(results_summary))\n",
    "    scraped_name = results_summary[0].replace('1st|2nd|3rd|, CPA','').replace('Premium Badge','')\n",
    "    #print('scraped name: {}'.format(scraped_name))\n",
    "    summary_position = results_summary[1]\n",
    "    \n",
    "    full_name = first_name + \" \" + last_name\n",
    "    name_match = \"True\" if scraped_name == full_name else \"False\"\n",
    "    \n",
    "    driver.find_element_by_css_selector('a.title.main-headline').click()\n",
    "    time.sleep(random.gauss(1.5, .5))\n",
    "    \n",
    "    education_text = driver.find_element_by_id('background-education').text.lstrip('Education\\n')\n",
    "    school_match = \"True\" if school in education_text else \"False\"\n",
    "    year_match = \"True\" if year in education_text else \"False\"\n",
    "    parsed_education_text = education_text.split('\\n')\n",
    "    \n",
    "    work_experience = driver.find_element_by_id('background-experience-container').text.lstrip('Experience\\n')\n",
    "    parsed_work_experience = work_experience.split('\\n')\n",
    "    current_position = parsed_work_experience[0]\n",
    "    current_company = parsed_work_experience[1]\n",
    "    current_location = parsed_work_experience[2].rsplit(')')[1]\n",
    "    \n",
    "    if name_match == 'False' and school_match == 'False' and year_match == 'False':\n",
    "        try_mcintyre(driver=driver, first_name, last_name, school=school2)\n",
    "    \n",
    "    \n",
    "    driver.find_element_by_id('advanced-search').click()\n",
    "    time.sleep(random.gauss(1.5, .5))\n",
    "    \n",
    "    info = (first_name, last_name, year, num_results, scraped_name, summary_position,\n",
    "            current_position, current_company, current_location,\n",
    "            parsed_education_text, parsed_work_experience, name_match, school_match, year_match)\n",
    "    scraped_info.append(info)\n",
    "    \n",
    "    #if name_match == 'False' and school_match == 'False' and year_match == 'False':\n",
    "    #    driver.find_element_by_id('advanced-search').click()\n",
    "    #    time.sleep(random.gauss(1.5, .5))\n",
    "    \n",
    "    #    driver.find_element_by_id('advs-firstName').clear()\n",
    "    #    driver.find_element_by_id('advs-lastName').clear()\n",
    "    #    driver.find_element_by_id('advs-school').clear()\n",
    "    \n",
    "    #    driver.find_element_by_id('advs-firstName').send_keys(first_name)\n",
    "    #    driver.find_element_by_id('advs-lastName').send_keys(last_name)\n",
    "    #    driver.find_element_by_id('advs-school').send_keys(school2)\n",
    "    #    driver.find_element_by_class_name('submit-advs').click()\n",
    "    #    time.sleep(random.gauss(4.2, .5))\n",
    "        "
   ]
  },
  {
   "cell_type": "code",
   "execution_count": null,
   "metadata": {
    "collapsed": true
   },
   "outputs": [],
   "source": [
    "def try_mcintyre(driver, first_name, last_name_school):\n",
    "    driver.find_element_by_id('advanced-search').click()\n",
    "    time.sleep(random.gauss(1.5, .5))\n",
    "    \n",
    "    driver.find_element_by_id('advs-firstName').clear()\n",
    "    driver.find_element_by_id('advs-lastName').clear()\n",
    "    driver.find_element_by_id('advs-school').clear()\n",
    "    \n",
    "    driver.find_element_by_id('advs-firstName').send_keys(first_name)\n",
    "    driver.find_element_by_id('advs-lastName').send_keys(last_name)\n",
    "    driver.find_element_by_id('advs-school').send_keys(school)\n",
    "    driver.find_element_by_class_name('submit-advs').click()\n",
    "    time.sleep(random.gauss(4.2, .5))\n",
    "    "
   ]
  },
  {
   "cell_type": "code",
   "execution_count": 95,
   "metadata": {
    "collapsed": true
   },
   "outputs": [],
   "source": [
    "driver.close()"
   ]
  },
  {
   "cell_type": "code",
   "execution_count": null,
   "metadata": {
    "collapsed": false
   },
   "outputs": [],
   "source": []
  },
  {
   "cell_type": "code",
   "execution_count": 97,
   "metadata": {
    "collapsed": false
   },
   "outputs": [],
   "source": [
    "with open('results.csv', 'w') as output:\n",
    "    scraper_writer = csv.writer(output)\n",
    "    scraper_writer.writerow(['Input First','Input Last','Input Year','No. Search Results','Search Results Name',\n",
    "                             'Search Results Work Summary', 'Current Position','Current Company','Current Location',\n",
    "                             'Education Experience','Work Experience','Name Match','School Match','Year Match'])\n",
    "    for row in scraped_info:\n",
    "        scraper_writer.writerow(row)"
   ]
  },
  {
   "cell_type": "code",
   "execution_count": 44,
   "metadata": {
    "collapsed": false
   },
   "outputs": [],
   "source": [
    "testname = 'Kevin HsuPremium Badge1st'"
   ]
  },
  {
   "cell_type": "code",
   "execution_count": 41,
   "metadata": {
    "collapsed": true
   },
   "outputs": [],
   "source": [
    "testname = testname.strip('1st')"
   ]
  },
  {
   "cell_type": "code",
   "execution_count": 42,
   "metadata": {
    "collapsed": false
   },
   "outputs": [
    {
     "data": {
      "text/plain": [
       "'Kevin HsuPremium Badge'"
      ]
     },
     "execution_count": 42,
     "metadata": {},
     "output_type": "execute_result"
    }
   ],
   "source": [
    "testname"
   ]
  },
  {
   "cell_type": "code",
   "execution_count": 43,
   "metadata": {
    "collapsed": false
   },
   "outputs": [
    {
     "data": {
      "text/plain": [
       "'Kevin H'"
      ]
     },
     "execution_count": 43,
     "metadata": {},
     "output_type": "execute_result"
    }
   ],
   "source": [
    "testname = testname.rstrip('Premium Badge')\n",
    "testname"
   ]
  },
  {
   "cell_type": "code",
   "execution_count": 45,
   "metadata": {
    "collapsed": false
   },
   "outputs": [
    {
     "data": {
      "text/plain": [
       "'Kevin HsuPremium Badge1st'"
      ]
     },
     "execution_count": 45,
     "metadata": {},
     "output_type": "execute_result"
    }
   ],
   "source": [
    "testname"
   ]
  },
  {
   "cell_type": "code",
   "execution_count": 47,
   "metadata": {
    "collapsed": false
   },
   "outputs": [],
   "source": [
    "testname = testname.replace('1st', '')"
   ]
  },
  {
   "cell_type": "code",
   "execution_count": 48,
   "metadata": {
    "collapsed": false
   },
   "outputs": [
    {
     "data": {
      "text/plain": [
       "'Kevin HsuPremium Badge'"
      ]
     },
     "execution_count": 48,
     "metadata": {},
     "output_type": "execute_result"
    }
   ],
   "source": [
    "testname"
   ]
  },
  {
   "cell_type": "code",
   "execution_count": 50,
   "metadata": {
    "collapsed": false
   },
   "outputs": [
    {
     "data": {
      "text/plain": [
       "'Kevin Hsu'"
      ]
     },
     "execution_count": 50,
     "metadata": {},
     "output_type": "execute_result"
    }
   ],
   "source": [
    "testname = testname.replace('Premium Badge', '')\n",
    "testname"
   ]
  },
  {
   "cell_type": "code",
   "execution_count": 59,
   "metadata": {
    "collapsed": false
   },
   "outputs": [
    {
     "data": {
      "text/plain": [
       "'Corporate Development\\nVMware\\nMay 2016 – Present (3 months)San Francisco Bay Area\\nGrowth Equity Investor\\nLevel Equity\\nJune 2014 – May 2016 (2 years)New York, New York\\nStrategy Consultant\\nWells Fargo\\n2013 – 2013 (less than a year)\\nTrends Researcher\\nPSFK\\n2012 – 2012 (less than a year)\\nResearch Assistant, Behavioral Economics Lab\\nDuke University\\n2009 – 2009 (less than a year)'"
      ]
     },
     "execution_count": 59,
     "metadata": {},
     "output_type": "execute_result"
    }
   ],
   "source": [
    "work_experience"
   ]
  },
  {
   "cell_type": "code",
   "execution_count": 62,
   "metadata": {
    "collapsed": false
   },
   "outputs": [],
   "source": [
    "parsed_work_experience = work_experience.split('\\n')"
   ]
  },
  {
   "cell_type": "code",
   "execution_count": 63,
   "metadata": {
    "collapsed": false
   },
   "outputs": [
    {
     "data": {
      "text/plain": [
       "'Corporate Development'"
      ]
     },
     "execution_count": 63,
     "metadata": {},
     "output_type": "execute_result"
    }
   ],
   "source": [
    "position = parsed_work_experience[0]\n",
    "position"
   ]
  },
  {
   "cell_type": "code",
   "execution_count": 65,
   "metadata": {
    "collapsed": false
   },
   "outputs": [
    {
     "data": {
      "text/plain": [
       "'VMware'"
      ]
     },
     "execution_count": 65,
     "metadata": {},
     "output_type": "execute_result"
    }
   ],
   "source": [
    "company = parsed_work_experience[1]\n",
    "company"
   ]
  },
  {
   "cell_type": "code",
   "execution_count": 66,
   "metadata": {
    "collapsed": false
   },
   "outputs": [
    {
     "data": {
      "text/plain": [
       "'May 2016 – Present (3 months)San Francisco Bay Area'"
      ]
     },
     "execution_count": 66,
     "metadata": {},
     "output_type": "execute_result"
    }
   ],
   "source": [
    "dates = parsed_work_experience[2]\n",
    "dates"
   ]
  },
  {
   "cell_type": "code",
   "execution_count": 67,
   "metadata": {
    "collapsed": false
   },
   "outputs": [
    {
     "data": {
      "text/plain": [
       "'San Francisco Bay Area'"
      ]
     },
     "execution_count": 67,
     "metadata": {},
     "output_type": "execute_result"
    }
   ],
   "source": [
    "location = dates\n",
    "location"
   ]
  },
  {
   "cell_type": "code",
   "execution_count": 86,
   "metadata": {
    "collapsed": false
   },
   "outputs": [
    {
     "data": {
      "text/plain": [
       "'0'"
      ]
     },
     "execution_count": 86,
     "metadata": {},
     "output_type": "execute_result"
    }
   ],
   "source": [
    "num_results"
   ]
  },
  {
   "cell_type": "code",
   "execution_count": 6,
   "metadata": {
    "collapsed": true
   },
   "outputs": [],
   "source": [
    "def print_driver_url(driver):\n",
    "    return \"Driver url: {}\".format(driver.current_url)"
   ]
  },
  {
   "cell_type": "code",
   "execution_count": 7,
   "metadata": {
    "collapsed": false
   },
   "outputs": [
    {
     "data": {
      "text/plain": [
       "'Driver url: https://www.linkedin.com/'"
      ]
     },
     "execution_count": 7,
     "metadata": {},
     "output_type": "execute_result"
    }
   ],
   "source": [
    "print_driver_url(driver=driver)"
   ]
  },
  {
   "cell_type": "code",
   "execution_count": null,
   "metadata": {
    "collapsed": true
   },
   "outputs": [],
   "source": []
  },
  {
   "cell_type": "code",
   "execution_count": null,
   "metadata": {
    "collapsed": true
   },
   "outputs": [],
   "source": []
  },
  {
   "cell_type": "code",
   "execution_count": null,
   "metadata": {
    "collapsed": true
   },
   "outputs": [],
   "source": []
  }
 ],
 "metadata": {
  "kernelspec": {
   "display_name": "Python 3",
   "language": "python",
   "name": "python3"
  },
  "language_info": {
   "codemirror_mode": {
    "name": "ipython",
    "version": 3
   },
   "file_extension": ".py",
   "mimetype": "text/x-python",
   "name": "python",
   "nbconvert_exporter": "python",
   "pygments_lexer": "ipython3",
   "version": "3.5.1"
  }
 },
 "nbformat": 4,
 "nbformat_minor": 0
}

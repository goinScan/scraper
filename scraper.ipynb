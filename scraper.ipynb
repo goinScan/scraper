{
 "cells": [
  {
   "cell_type": "markdown",
   "metadata": {},
   "source": [
    "Goal for 6/25\n",
    "    - add logic for checking year\n",
    "    - add logic for comparing education\n",
    "    - add logic to parse work summary\n",
    "    \n",
    "Goal for 8/7\n",
    "    - use people parser for given names\n",
    "    - try to run people with university of virginia as school\n",
    "    \n",
    "Goal for 8/8\n",
    "    - make it still output first four columns when cannot find or parse\n",
    "    - kick out people it cannot parse into it's own file\n",
    "    - add company as a default search paramter\n",
    "    - make separate list of people "
   ]
  },
  {
   "cell_type": "code",
   "execution_count": 11,
   "metadata": {
    "collapsed": false
   },
   "outputs": [],
   "source": [
    "from selenium import webdriver\n",
    "import csv\n",
    "import time\n",
    "import random\n",
    "import pandas as pd\n",
    "import probablepeople as pp"
   ]
  },
  {
   "cell_type": "code",
   "execution_count": 2,
   "metadata": {
    "collapsed": true
   },
   "outputs": [],
   "source": [
    "df = pd.read_excel('alumni_sample358-500.xlsx')"
   ]
  },
  {
   "cell_type": "code",
   "execution_count": 12,
   "metadata": {
    "collapsed": false
   },
   "outputs": [
    {
     "data": {
      "text/html": [
       "<div>\n",
       "<table border=\"1\" class=\"dataframe\">\n",
       "  <thead>\n",
       "    <tr style=\"text-align: right;\">\n",
       "      <th></th>\n",
       "      <th>ENTITY_ID_NUMBER</th>\n",
       "      <th>PREF_MAIL_NAME</th>\n",
       "      <th>YEAR1</th>\n",
       "      <th>BUSINESS_TITLE</th>\n",
       "      <th>EMPLOYER</th>\n",
       "    </tr>\n",
       "  </thead>\n",
       "  <tbody>\n",
       "    <tr>\n",
       "      <th>0</th>\n",
       "      <td>148207</td>\n",
       "      <td>Mr. Michael D. Park</td>\n",
       "      <td>1986</td>\n",
       "      <td></td>\n",
       "      <td>JM Park and Company LLC</td>\n",
       "    </tr>\n",
       "    <tr>\n",
       "      <th>1</th>\n",
       "      <td>194358</td>\n",
       "      <td>Mr. Jonathan M. Housley</td>\n",
       "      <td>1991</td>\n",
       "      <td>President</td>\n",
       "      <td>John Housley Real Estate</td>\n",
       "    </tr>\n",
       "    <tr>\n",
       "      <th>2</th>\n",
       "      <td>148239</td>\n",
       "      <td>Ms. Joan M. Perry</td>\n",
       "      <td>1988</td>\n",
       "      <td>Advancement Director</td>\n",
       "      <td>John Paul II Regional School</td>\n",
       "    </tr>\n",
       "    <tr>\n",
       "      <th>3</th>\n",
       "      <td>189127</td>\n",
       "      <td>Mr. Charles Anthony Verbeck</td>\n",
       "      <td>1990</td>\n",
       "      <td>Director of Supply Chain</td>\n",
       "      <td>Johnson &amp; Johnson</td>\n",
       "    </tr>\n",
       "    <tr>\n",
       "      <th>4</th>\n",
       "      <td>2831526</td>\n",
       "      <td>Ms. Alpana Thapar</td>\n",
       "      <td>2006</td>\n",
       "      <td>Senior Brand Manager-Women's Health &amp; Nutritio...</td>\n",
       "      <td>Johnson &amp; Johnson</td>\n",
       "    </tr>\n",
       "  </tbody>\n",
       "</table>\n",
       "</div>"
      ],
      "text/plain": [
       "   ENTITY_ID_NUMBER               PREF_MAIL_NAME  YEAR1  \\\n",
       "0            148207          Mr. Michael D. Park   1986   \n",
       "1            194358      Mr. Jonathan M. Housley   1991   \n",
       "2            148239            Ms. Joan M. Perry   1988   \n",
       "3            189127  Mr. Charles Anthony Verbeck   1990   \n",
       "4           2831526            Ms. Alpana Thapar   2006   \n",
       "\n",
       "                                      BUSINESS_TITLE  \\\n",
       "0                                                      \n",
       "1                                          President   \n",
       "2                               Advancement Director   \n",
       "3                           Director of Supply Chain   \n",
       "4  Senior Brand Manager-Women's Health & Nutritio...   \n",
       "\n",
       "                       EMPLOYER  \n",
       "0       JM Park and Company LLC  \n",
       "1      John Housley Real Estate  \n",
       "2  John Paul II Regional School  \n",
       "3             Johnson & Johnson  \n",
       "4             Johnson & Johnson  "
      ]
     },
     "execution_count": 12,
     "metadata": {},
     "output_type": "execute_result"
    }
   ],
   "source": [
    "df.head()"
   ]
  },
  {
   "cell_type": "code",
   "execution_count": 18,
   "metadata": {
    "collapsed": true
   },
   "outputs": [],
   "source": [
    "p = pp.tag('Ms. Shondale Terree Bostick')"
   ]
  },
  {
   "cell_type": "code",
   "execution_count": 44,
   "metadata": {
    "collapsed": false
   },
   "outputs": [
    {
     "data": {
      "text/plain": [
       "(OrderedDict([('CorporationName', 'Ms. Shondale Terree Bostick')]),\n",
       " 'Corporation')"
      ]
     },
     "execution_count": 44,
     "metadata": {},
     "output_type": "execute_result"
    }
   ],
   "source": [
    "p"
   ]
  },
  {
   "cell_type": "code",
   "execution_count": 4,
   "metadata": {
    "collapsed": true
   },
   "outputs": [],
   "source": [
    "url = 'https://www.linkedin.com/'\n",
    "username = 'mariamariasmithsmithsmith@gmail.com'\n",
    "password = 'scrapenrape'"
   ]
  },
  {
   "cell_type": "code",
   "execution_count": 18,
   "metadata": {
    "collapsed": true
   },
   "outputs": [],
   "source": [
    "driver = webdriver.Chrome()"
   ]
  },
  {
   "cell_type": "code",
   "execution_count": 19,
   "metadata": {
    "collapsed": true
   },
   "outputs": [],
   "source": [
    "driver.get(url)"
   ]
  },
  {
   "cell_type": "code",
   "execution_count": 20,
   "metadata": {
    "collapsed": true
   },
   "outputs": [],
   "source": [
    "driver.find_element_by_id('login-email').send_keys(username)\n",
    "driver.find_element_by_id('login-password').send_keys(password)\n",
    "time.sleep(random.gauss(1, .1))\n",
    "driver.find_element_by_name('submit').click()"
   ]
  },
  {
   "cell_type": "code",
   "execution_count": 21,
   "metadata": {
    "collapsed": true
   },
   "outputs": [],
   "source": [
    "school = 'University of Virginia'\n",
    "REPLACE_CHARS = ['1st','2nd','3rd',' CPA','Premium Badge','GROUP']"
   ]
  },
  {
   "cell_type": "code",
   "execution_count": 22,
   "metadata": {
    "collapsed": false
   },
   "outputs": [
    {
     "name": "stdout",
     "output_type": "stream",
     "text": [
      "Processing 0: Michael Park\n",
      "Processing 1: Jonathan Housley\n",
      "Processing 2: Joan Perry\n",
      "Processing 3: Charles Verbeck\n",
      "Processing 4: Alpana Thapar\n",
      "Processing 5: Shilpee Raina\n",
      "Processing 6: Miss Elaine Schweitzer\n",
      "Processing 7: Kimberly Crowell\n",
      "Processing 8: Steven Thomas\n",
      "Processing 9: Christopher Lawrence\n",
      "Processing 10: Joan Kearns\n",
      "Processing 12: Jessica Tindel\n",
      "Processing 13: Patrick Monaghan\n",
      "Processing 14: Jessica Sabbath\n",
      "Processing 15: Edward Testerman\n",
      "Processing 16: Hayley Smith\n",
      "Processing 18: Pete Kotarides\n",
      "Processing 19: Stephen Depasquale\n",
      "Processing 20: Maxwell Duncan\n",
      "Processing 21: Lauren Bain\n",
      "Processing 22: Richard Wheeler\n",
      "Processing 23: Michael Langman\n",
      "Processing 24: Robin Pitts\n",
      "Processing 25: Patricia Cary\n",
      "Processing 26: Stacie Zambas\n",
      "Processing 27: Jennifer Bittmann\n",
      "Processing 28: Maria Blohm\n",
      "Processing 29: Susan Norfleet\n",
      "Processing 30: Zenubia Madhani\n",
      "Processing 31: Sara Duff McKeon\n",
      "Processing 32: Donald Walker\n",
      "Processing 33: Kelly Kursteiner\n",
      "Processing 34: Brandon Furlong\n",
      "Processing 35: Philip Bednar\n",
      "Processing 36: Jeremy Eichler\n",
      "Processing 37: Laura Moore\n",
      "Processing 38: Stephen Edison\n",
      "Processing 39: Laura Dec\n",
      "Processing 40: Frank Williams\n",
      "Processing 41: Melanie Lambert\n",
      "Processing 42: Sandra Lineberger Wolk\n",
      "Processing 43: Jason Ware\n",
      "Processing 44: Gregory O'Brien\n",
      "Processing 45: Stephan Miller\n",
      "Processing 46: Allison Lines\n",
      "Processing 47: Aaron Salls\n",
      "Processing 48: Miss Lorrie Bradley\n",
      "Processing 49: Sam Jacobs\n",
      "Processing 50: Maria Garton\n",
      "Processing 51: Matthew Rubin\n",
      "Processing 52: John Schmidt\n",
      "Processing 53: Anthony Chavez\n",
      "Processing 54: Susan Scribner\n",
      "Processing 55: Robert Bretz\n",
      "Processing 56: Scott McLellan\n",
      "Processing 57: Sylvia Augustyn\n",
      "Processing 58: Jamie Harbeck\n",
      "Processing 59: Brenda Leerar\n",
      "Processing 60: Christina Kosco\n",
      "Processing 61: Laura Shuping\n",
      "Processing 62: Lisa Heuchert\n",
      "Processing 63: Kymberly Shackelford\n",
      "Processing 64: Fiona Foxon\n",
      "Processing 65: Gregory Askey\n",
      "Processing 67: Kathy Abell\n",
      "Processing 68: Andrew Cardwell\n",
      "Processing 69: Matthew Cerimele\n",
      "Processing 70: Irving Brenner\n",
      "Processing 72: Jennifer Henry\n",
      "Processing 73: Jeremy Rayburn\n",
      "Processing 74: Michael Smith\n",
      "Processing 75: Kevin Laake\n",
      "Processing 76: Linda Block-Love\n",
      "Processing 77: Dale Zeigler\n",
      "Processing 78: Richard Lawrence\n",
      "Processing 80: Karen Chen\n",
      "Processing 81: Nicholas DeCarlo\n",
      "Processing 82: Jonathan Miller\n",
      "Processing 83: Mark Mincer\n",
      "Processing 84: Matthew Stone\n",
      "Processing 85: Adam Falkson\n",
      "Processing 86: James Egan\n",
      "Processing 87: Naseh Kausar\n",
      "Processing 88: Jeffrey Davis\n",
      "Processing 90: Laura Farah\n",
      "Processing 91: Melanie Stephens\n",
      "Processing 92: Douglas Cohen\n",
      "Processing 93: Alex Sadler\n",
      "Processing 94: Avron Stoloff\n",
      "Processing 95: William Reynolds\n",
      "Processing 96: Harry Karageorge\n",
      "Processing 97: Joaquin Targhetta\n",
      "Processing 98: Margaret Marion\n",
      "Processing 99: Samuel Murray\n",
      "Processing 100: Christopher Brown\n",
      "Processing 101: Anne Goodnow\n",
      "Processing 102: Stephen McArdle\n",
      "Processing 104: Daniela Castagnino\n",
      "Processing 105: James Yates\n",
      "Processing 106: Julie Auspaker\n",
      "Processing 107: Kristin Jensen\n",
      "Processing 108: Tahlor Levine\n",
      "Processing 109: Lewis Smith\n",
      "Processing 110: Shawn Boyd\n",
      "Processing 111: Sara Gigele\n",
      "Processing 112: Therese Silman\n",
      "Processing 113: Daniel Stern\n",
      "Processing 114: Carole Noyes\n",
      "Processing 115: Lindy Blevins\n",
      "Processing 116: Stephanie Baker\n",
      "Processing 117: Steven Kulynych\n",
      "Processing 118: Alexander Johnson\n"
     ]
    },
    {
     "ename": "NoSuchElementException",
     "evalue": "Message: no such element: Unable to locate element: {\"method\":\"id\",\"selector\":\"advs-firstName\"}\n  (Session info: chrome=52.0.2743.116)\n  (Driver info: chromedriver=2.21.371459 (36d3d07f660ff2bc1bf28a75d1cdabed0983e7c4),platform=Mac OS X 10.11.5 x86_64)\n",
     "output_type": "error",
     "traceback": [
      "\u001b[0;31m---------------------------------------------------------------------------\u001b[0m",
      "\u001b[0;31mNoSuchElementException\u001b[0m                    Traceback (most recent call last)",
      "\u001b[0;32m<ipython-input-22-dbf094dd471a>\u001b[0m in \u001b[0;36m<module>\u001b[0;34m()\u001b[0m\n\u001b[1;32m     23\u001b[0m     \u001b[0mtime\u001b[0m\u001b[0;34m.\u001b[0m\u001b[0msleep\u001b[0m\u001b[0;34m(\u001b[0m\u001b[0mrandom\u001b[0m\u001b[0;34m.\u001b[0m\u001b[0mgauss\u001b[0m\u001b[0;34m(\u001b[0m\u001b[0;36m1\u001b[0m\u001b[0;34m,\u001b[0m \u001b[0;36m.1\u001b[0m\u001b[0;34m)\u001b[0m\u001b[0;34m)\u001b[0m\u001b[0;34m\u001b[0m\u001b[0m\n\u001b[1;32m     24\u001b[0m \u001b[0;34m\u001b[0m\u001b[0m\n\u001b[0;32m---> 25\u001b[0;31m     \u001b[0mdriver\u001b[0m\u001b[0;34m.\u001b[0m\u001b[0mfind_element_by_id\u001b[0m\u001b[0;34m(\u001b[0m\u001b[0;34m'advs-firstName'\u001b[0m\u001b[0;34m)\u001b[0m\u001b[0;34m.\u001b[0m\u001b[0mclear\u001b[0m\u001b[0;34m(\u001b[0m\u001b[0;34m)\u001b[0m\u001b[0;34m\u001b[0m\u001b[0m\n\u001b[0m\u001b[1;32m     26\u001b[0m     \u001b[0mdriver\u001b[0m\u001b[0;34m.\u001b[0m\u001b[0mfind_element_by_id\u001b[0m\u001b[0;34m(\u001b[0m\u001b[0;34m'advs-lastName'\u001b[0m\u001b[0;34m)\u001b[0m\u001b[0;34m.\u001b[0m\u001b[0mclear\u001b[0m\u001b[0;34m(\u001b[0m\u001b[0;34m)\u001b[0m\u001b[0;34m\u001b[0m\u001b[0m\n\u001b[1;32m     27\u001b[0m     \u001b[0mdriver\u001b[0m\u001b[0;34m.\u001b[0m\u001b[0mfind_element_by_id\u001b[0m\u001b[0;34m(\u001b[0m\u001b[0;34m'advs-school'\u001b[0m\u001b[0;34m)\u001b[0m\u001b[0;34m.\u001b[0m\u001b[0mclear\u001b[0m\u001b[0;34m(\u001b[0m\u001b[0;34m)\u001b[0m\u001b[0;34m\u001b[0m\u001b[0m\n",
      "\u001b[0;32m/Users/pes/projects/link/lenv/lib/python3.5/site-packages/selenium/webdriver/remote/webdriver.py\u001b[0m in \u001b[0;36mfind_element_by_id\u001b[0;34m(self, id_)\u001b[0m\n\u001b[1;32m    267\u001b[0m             \u001b[0mdriver\u001b[0m\u001b[0;34m.\u001b[0m\u001b[0mfind_element_by_id\u001b[0m\u001b[0;34m(\u001b[0m\u001b[0;34m'foo'\u001b[0m\u001b[0;34m)\u001b[0m\u001b[0;34m\u001b[0m\u001b[0m\n\u001b[1;32m    268\u001b[0m         \"\"\"\n\u001b[0;32m--> 269\u001b[0;31m         \u001b[0;32mreturn\u001b[0m \u001b[0mself\u001b[0m\u001b[0;34m.\u001b[0m\u001b[0mfind_element\u001b[0m\u001b[0;34m(\u001b[0m\u001b[0mby\u001b[0m\u001b[0;34m=\u001b[0m\u001b[0mBy\u001b[0m\u001b[0;34m.\u001b[0m\u001b[0mID\u001b[0m\u001b[0;34m,\u001b[0m \u001b[0mvalue\u001b[0m\u001b[0;34m=\u001b[0m\u001b[0mid_\u001b[0m\u001b[0;34m)\u001b[0m\u001b[0;34m\u001b[0m\u001b[0m\n\u001b[0m\u001b[1;32m    270\u001b[0m \u001b[0;34m\u001b[0m\u001b[0m\n\u001b[1;32m    271\u001b[0m     \u001b[0;32mdef\u001b[0m \u001b[0mfind_elements_by_id\u001b[0m\u001b[0;34m(\u001b[0m\u001b[0mself\u001b[0m\u001b[0;34m,\u001b[0m \u001b[0mid_\u001b[0m\u001b[0;34m)\u001b[0m\u001b[0;34m:\u001b[0m\u001b[0;34m\u001b[0m\u001b[0m\n",
      "\u001b[0;32m/Users/pes/projects/link/lenv/lib/python3.5/site-packages/selenium/webdriver/remote/webdriver.py\u001b[0m in \u001b[0;36mfind_element\u001b[0;34m(self, by, value)\u001b[0m\n\u001b[1;32m    743\u001b[0m                 \u001b[0mvalue\u001b[0m \u001b[0;34m=\u001b[0m \u001b[0;34m'[name=\"%s\"]'\u001b[0m \u001b[0;34m%\u001b[0m \u001b[0mvalue\u001b[0m\u001b[0;34m\u001b[0m\u001b[0m\n\u001b[1;32m    744\u001b[0m         return self.execute(Command.FIND_ELEMENT,\n\u001b[0;32m--> 745\u001b[0;31m                              {'using': by, 'value': value})['value']\n\u001b[0m\u001b[1;32m    746\u001b[0m \u001b[0;34m\u001b[0m\u001b[0m\n\u001b[1;32m    747\u001b[0m     \u001b[0;32mdef\u001b[0m \u001b[0mfind_elements\u001b[0m\u001b[0;34m(\u001b[0m\u001b[0mself\u001b[0m\u001b[0;34m,\u001b[0m \u001b[0mby\u001b[0m\u001b[0;34m=\u001b[0m\u001b[0mBy\u001b[0m\u001b[0;34m.\u001b[0m\u001b[0mID\u001b[0m\u001b[0;34m,\u001b[0m \u001b[0mvalue\u001b[0m\u001b[0;34m=\u001b[0m\u001b[0;32mNone\u001b[0m\u001b[0;34m)\u001b[0m\u001b[0;34m:\u001b[0m\u001b[0;34m\u001b[0m\u001b[0m\n",
      "\u001b[0;32m/Users/pes/projects/link/lenv/lib/python3.5/site-packages/selenium/webdriver/remote/webdriver.py\u001b[0m in \u001b[0;36mexecute\u001b[0;34m(self, driver_command, params)\u001b[0m\n\u001b[1;32m    234\u001b[0m         \u001b[0mresponse\u001b[0m \u001b[0;34m=\u001b[0m \u001b[0mself\u001b[0m\u001b[0;34m.\u001b[0m\u001b[0mcommand_executor\u001b[0m\u001b[0;34m.\u001b[0m\u001b[0mexecute\u001b[0m\u001b[0;34m(\u001b[0m\u001b[0mdriver_command\u001b[0m\u001b[0;34m,\u001b[0m \u001b[0mparams\u001b[0m\u001b[0;34m)\u001b[0m\u001b[0;34m\u001b[0m\u001b[0m\n\u001b[1;32m    235\u001b[0m         \u001b[0;32mif\u001b[0m \u001b[0mresponse\u001b[0m\u001b[0;34m:\u001b[0m\u001b[0;34m\u001b[0m\u001b[0m\n\u001b[0;32m--> 236\u001b[0;31m             \u001b[0mself\u001b[0m\u001b[0;34m.\u001b[0m\u001b[0merror_handler\u001b[0m\u001b[0;34m.\u001b[0m\u001b[0mcheck_response\u001b[0m\u001b[0;34m(\u001b[0m\u001b[0mresponse\u001b[0m\u001b[0;34m)\u001b[0m\u001b[0;34m\u001b[0m\u001b[0m\n\u001b[0m\u001b[1;32m    237\u001b[0m             response['value'] = self._unwrap_value(\n\u001b[1;32m    238\u001b[0m                 response.get('value', None))\n",
      "\u001b[0;32m/Users/pes/projects/link/lenv/lib/python3.5/site-packages/selenium/webdriver/remote/errorhandler.py\u001b[0m in \u001b[0;36mcheck_response\u001b[0;34m(self, response)\u001b[0m\n\u001b[1;32m    192\u001b[0m         \u001b[0;32melif\u001b[0m \u001b[0mexception_class\u001b[0m \u001b[0;34m==\u001b[0m \u001b[0mUnexpectedAlertPresentException\u001b[0m \u001b[0;32mand\u001b[0m \u001b[0;34m'alert'\u001b[0m \u001b[0;32min\u001b[0m \u001b[0mvalue\u001b[0m\u001b[0;34m:\u001b[0m\u001b[0;34m\u001b[0m\u001b[0m\n\u001b[1;32m    193\u001b[0m             \u001b[0;32mraise\u001b[0m \u001b[0mexception_class\u001b[0m\u001b[0;34m(\u001b[0m\u001b[0mmessage\u001b[0m\u001b[0;34m,\u001b[0m \u001b[0mscreen\u001b[0m\u001b[0;34m,\u001b[0m \u001b[0mstacktrace\u001b[0m\u001b[0;34m,\u001b[0m \u001b[0mvalue\u001b[0m\u001b[0;34m[\u001b[0m\u001b[0;34m'alert'\u001b[0m\u001b[0;34m]\u001b[0m\u001b[0;34m.\u001b[0m\u001b[0mget\u001b[0m\u001b[0;34m(\u001b[0m\u001b[0;34m'text'\u001b[0m\u001b[0;34m)\u001b[0m\u001b[0;34m)\u001b[0m\u001b[0;34m\u001b[0m\u001b[0m\n\u001b[0;32m--> 194\u001b[0;31m         \u001b[0;32mraise\u001b[0m \u001b[0mexception_class\u001b[0m\u001b[0;34m(\u001b[0m\u001b[0mmessage\u001b[0m\u001b[0;34m,\u001b[0m \u001b[0mscreen\u001b[0m\u001b[0;34m,\u001b[0m \u001b[0mstacktrace\u001b[0m\u001b[0;34m)\u001b[0m\u001b[0;34m\u001b[0m\u001b[0m\n\u001b[0m\u001b[1;32m    195\u001b[0m \u001b[0;34m\u001b[0m\u001b[0m\n\u001b[1;32m    196\u001b[0m     \u001b[0;32mdef\u001b[0m \u001b[0m_value_or_default\u001b[0m\u001b[0;34m(\u001b[0m\u001b[0mself\u001b[0m\u001b[0;34m,\u001b[0m \u001b[0mobj\u001b[0m\u001b[0;34m,\u001b[0m \u001b[0mkey\u001b[0m\u001b[0;34m,\u001b[0m \u001b[0mdefault\u001b[0m\u001b[0;34m)\u001b[0m\u001b[0;34m:\u001b[0m\u001b[0;34m\u001b[0m\u001b[0m\n",
      "\u001b[0;31mNoSuchElementException\u001b[0m: Message: no such element: Unable to locate element: {\"method\":\"id\",\"selector\":\"advs-firstName\"}\n  (Session info: chrome=52.0.2743.116)\n  (Driver info: chromedriver=2.21.371459 (36d3d07f660ff2bc1bf28a75d1cdabed0983e7c4),platform=Mac OS X 10.11.5 x86_64)\n"
     ]
    }
   ],
   "source": [
    "unparsed_info = []\n",
    "unfound_info = []\n",
    "scraped_info = []\n",
    "for idx, row in df.iterrows():\n",
    "    entity_id = row.ENTITY_ID_NUMBER\n",
    "    orig_name = row.PREF_MAIL_NAME\n",
    "    try:    \n",
    "        parsed_name = pp.tag(orig_name)\n",
    "        first_name = parsed_name[0]['GivenName']\n",
    "        last_name = parsed_name[0]['Surname']\n",
    "    except Exception:\n",
    "        info = (entity_id, orig_name, grad_year, business_title, employer)\n",
    "        unparsed_info.append(list(info))\n",
    "        continue\n",
    "        \n",
    "    grad_year = str(row.YEAR1)\n",
    "    business_title = row.BUSINESS_TITLE\n",
    "    employer = row.EMPLOYER\n",
    "    \n",
    "    print(\"Processing {}: {} {}\".format(idx, first_name, last_name))\n",
    "    \n",
    "    driver.find_element_by_id('advanced-search').click()\n",
    "    time.sleep(random.gauss(1, .1))\n",
    "    \n",
    "    driver.find_element_by_id('advs-firstName').clear()\n",
    "    driver.find_element_by_id('advs-lastName').clear()\n",
    "    driver.find_element_by_id('advs-school').clear()\n",
    "    driver.find_element_by_id('advs-company').clear()\n",
    "    \n",
    "    driver.find_element_by_id('advs-firstName').send_keys(first_name)\n",
    "    driver.find_element_by_id('advs-lastName').send_keys(last_name)\n",
    "    driver.find_element_by_id('advs-company').send_keys(employer)\n",
    "    driver.find_element_by_id('advs-school').send_keys(school)\n",
    "    driver.find_element_by_class_name('submit-advs').click()\n",
    "    time.sleep(random.gauss(4.2, .5))\n",
    "    \n",
    "    num_results = driver.find_element_by_class_name('search-info').text.split('\\n')[0]\n",
    "    num_results = num_results.strip(\" results\")\n",
    "    #num_results = int(num_results)\n",
    "    if num_results == '0':\n",
    "        info = (entity_id, orig_name, grad_year, business_title, employer, first_name, last_name)\n",
    "        unfound_info.append(list(info))\n",
    "        continue\n",
    "        \n",
    "    results_summary = driver.find_element_by_id('results-container').text.split('\\n')\n",
    "    #print('results summary: {}'.format(results_summary))\n",
    "    scraped_name = results_summary[0]\n",
    "    for chars in REPLACE_CHARS:\n",
    "        scraped_name = scraped_name.replace(chars, '')\n",
    "    #print('scraped name: {}'.format(scraped_name))\n",
    "    summary_position = results_summary[1]\n",
    "    \n",
    "    full_name = first_name + \" \" + last_name\n",
    "    name_match = \"True\" if scraped_name == full_name else \"False\"\n",
    "    \n",
    "    driver.find_element_by_css_selector('a.title.main-headline').click()\n",
    "    time.sleep(random.gauss(1.1, .2))\n",
    "    \n",
    "    try:\n",
    "        education_text = driver.find_element_by_id('background-education').text.replace('Education\\n', '')\n",
    "        school_match = \"True\" if school in education_text else \"False\"\n",
    "        year_match = \"True\" if grad_year in education_text else \"False\"\n",
    "        parsed_education_text = education_text.split('\\n')\n",
    "    except Exception:\n",
    "        education_text = parsed_education_text = ''\n",
    "        school_match = year_match = \"False\"\n",
    "    \n",
    "    try:\n",
    "        work_experience = driver.find_element_by_id('background-experience-container').text.replace('Experience\\n', '')\n",
    "        parsed_work_experience = work_experience.split('\\n')\n",
    "        current_position = parsed_work_experience[0]\n",
    "        current_company = parsed_work_experience[1]\n",
    "        current_location = parsed_work_experience[2].rsplit(')')[1]\n",
    "        employer_match = \"True\" if current_company == employer else \"False\"\n",
    "    except Exception:\n",
    "        parsed_work_experience = current_position = current_company = current_location = ''\n",
    "        employer_match = \"False\"\n",
    "        \n",
    "    #if name_match == 'False' and school_match == 'False' and year_match == 'False':\n",
    "    #    try_mcintyre(driver=driver, first_name, last_name, school=school2)\n",
    "    \n",
    "    driver.find_element_by_id('advanced-search').click()\n",
    "    time.sleep(random.gauss(1.1, .1))\n",
    "    \n",
    "    info = (entity_id, orig_name, grad_year, business_title, employer, first_name, last_name, num_results, scraped_name, summary_position,\n",
    "            current_position, current_company, current_location,\n",
    "            parsed_education_text, parsed_work_experience, name_match, school_match, year_match, employer_match)\n",
    "    scraped_info.append(list(info))\n",
    "    \n",
    "    "
   ]
  },
  {
   "cell_type": "code",
   "execution_count": 23,
   "metadata": {
    "collapsed": true
   },
   "outputs": [],
   "source": [
    "with open('results/358-476/results358-476.csv', 'w') as output:\n",
    "    scraper_writer = csv.writer(output)\n",
    "    scraper_writer.writerow(['ENTITY_ID_NUMBER','PREF_MAIL_NAME','YEAR1','BUSINESS_TITLE','EMPLOYER',\n",
    "                    'first_name','last_name','No. Search Results','Search Results Name',\n",
    "                    'Search Results Work Summary', 'Current Position','Current Company','Current Location',\n",
    "                    'Education Experience','Work Experience','Name Match','School Match','Year Match',\n",
    "                    'Employer Match'])\n",
    "    for row in scraped_info:\n",
    "        scraper_writer.writerow(row)"
   ]
  },
  {
   "cell_type": "code",
   "execution_count": 24,
   "metadata": {
    "collapsed": true
   },
   "outputs": [],
   "source": [
    "with open('results/358-476/unfound.csv', 'w') as no_output:\n",
    "    scraper_writer = csv.writer(no_output)\n",
    "    scraper_writer.writerow(['ENTITY_ID_NUMBER','PREF_MAIL_NAME','YEAR1','BUSINESS_TITLE','EMPLOYER',\n",
    "                    'first_name','last_name'])\n",
    "    for row in unfound_info:\n",
    "        scraper_writer.writerow(row)"
   ]
  },
  {
   "cell_type": "code",
   "execution_count": 25,
   "metadata": {
    "collapsed": true
   },
   "outputs": [],
   "source": [
    "with open('results/358-476/unparsed.csv', 'w') as no_parse:\n",
    "    scraper_writer = csv.writer(no_parse)\n",
    "    scraper_writer.writerow(['ENTITY_ID_NUMBER','PREF_MAIL_NAME','YEAR1','BUSINESS_TITLE','EMPLOYER'])\n",
    "    for row in unparsed_info:\n",
    "        scraper_writer.writerow(row)"
   ]
  },
  {
   "cell_type": "code",
   "execution_count": 12,
   "metadata": {
    "collapsed": false
   },
   "outputs": [],
   "source": [
    "\"\"\"\n",
    "dfs = []\n",
    "for info in scraped_info:\n",
    "    print(info)\n",
    "    df = pd.DataFrame(info, columns=['ENTITY_ID_NUMBER','PREF_MAIL_NAME','YEAR1','BUSINESS_TITLE','EMPLOYER',\n",
    "                    'first_name','last_name','No. Search Results','Search Results Name',\n",
    "                    'Search Results Work Summary', 'Current Position','Current Company','Current Location',\n",
    "                    'Education Experience','Work Experience','Name Match','School Match','Year Match'])\n",
    "\"\"\""
   ]
  },
  {
   "cell_type": "code",
   "execution_count": 37,
   "metadata": {
    "collapsed": true
   },
   "outputs": [],
   "source": [
    "driver.close()"
   ]
  },
  {
   "cell_type": "code",
   "execution_count": 27,
   "metadata": {
    "collapsed": true
   },
   "outputs": [],
   "source": [
    "unfound_df = pd.read_csv('results/358-476/unfound.csv')"
   ]
  },
  {
   "cell_type": "code",
   "execution_count": 28,
   "metadata": {
    "collapsed": false
   },
   "outputs": [
    {
     "data": {
      "text/html": [
       "<div>\n",
       "<table border=\"1\" class=\"dataframe\">\n",
       "  <thead>\n",
       "    <tr style=\"text-align: right;\">\n",
       "      <th></th>\n",
       "      <th>ENTITY_ID_NUMBER</th>\n",
       "      <th>PREF_MAIL_NAME</th>\n",
       "      <th>YEAR1</th>\n",
       "      <th>BUSINESS_TITLE</th>\n",
       "      <th>EMPLOYER</th>\n",
       "      <th>first_name</th>\n",
       "      <th>last_name</th>\n",
       "    </tr>\n",
       "  </thead>\n",
       "  <tbody>\n",
       "    <tr>\n",
       "      <th>0</th>\n",
       "      <td>194358</td>\n",
       "      <td>Mr. Jonathan M. Housley</td>\n",
       "      <td>1991</td>\n",
       "      <td>President</td>\n",
       "      <td>John Housley Real Estate</td>\n",
       "      <td>Jonathan</td>\n",
       "      <td>Housley</td>\n",
       "    </tr>\n",
       "    <tr>\n",
       "      <th>1</th>\n",
       "      <td>189127</td>\n",
       "      <td>Mr. Charles Anthony Verbeck</td>\n",
       "      <td>1990</td>\n",
       "      <td>Director of Supply Chain</td>\n",
       "      <td>Johnson &amp; Johnson</td>\n",
       "      <td>Charles</td>\n",
       "      <td>Verbeck</td>\n",
       "    </tr>\n",
       "    <tr>\n",
       "      <th>2</th>\n",
       "      <td>94181</td>\n",
       "      <td>Miss Elaine M. Schweitzer</td>\n",
       "      <td>1980</td>\n",
       "      <td>VP, Financial Plng. &amp; Performance</td>\n",
       "      <td>Kaiser Foundation Health Plan, Inc.</td>\n",
       "      <td>Miss Elaine</td>\n",
       "      <td>Schweitzer</td>\n",
       "    </tr>\n",
       "    <tr>\n",
       "      <th>3</th>\n",
       "      <td>2767945</td>\n",
       "      <td>Mrs. Kimberly A. Crowell</td>\n",
       "      <td>2003</td>\n",
       "      <td>Principal</td>\n",
       "      <td>Kalo Holdings, LLC</td>\n",
       "      <td>Kimberly</td>\n",
       "      <td>Crowell</td>\n",
       "    </tr>\n",
       "    <tr>\n",
       "      <th>4</th>\n",
       "      <td>2730804</td>\n",
       "      <td>Mr. Christopher D. Lawrence</td>\n",
       "      <td>1999</td>\n",
       "      <td>Manager/Auditor</td>\n",
       "      <td>Kearney-National Incorporated</td>\n",
       "      <td>Christopher</td>\n",
       "      <td>Lawrence</td>\n",
       "    </tr>\n",
       "  </tbody>\n",
       "</table>\n",
       "</div>"
      ],
      "text/plain": [
       "   ENTITY_ID_NUMBER               PREF_MAIL_NAME  YEAR1  \\\n",
       "0            194358      Mr. Jonathan M. Housley   1991   \n",
       "1            189127  Mr. Charles Anthony Verbeck   1990   \n",
       "2             94181    Miss Elaine M. Schweitzer   1980   \n",
       "3           2767945     Mrs. Kimberly A. Crowell   2003   \n",
       "4           2730804  Mr. Christopher D. Lawrence   1999   \n",
       "\n",
       "                      BUSINESS_TITLE                             EMPLOYER  \\\n",
       "0                          President             John Housley Real Estate   \n",
       "1           Director of Supply Chain                    Johnson & Johnson   \n",
       "2  VP, Financial Plng. & Performance  Kaiser Foundation Health Plan, Inc.   \n",
       "3                          Principal                   Kalo Holdings, LLC   \n",
       "4                    Manager/Auditor        Kearney-National Incorporated   \n",
       "\n",
       "    first_name   last_name  \n",
       "0     Jonathan     Housley  \n",
       "1      Charles     Verbeck  \n",
       "2  Miss Elaine  Schweitzer  \n",
       "3     Kimberly     Crowell  \n",
       "4  Christopher    Lawrence  "
      ]
     },
     "execution_count": 28,
     "metadata": {},
     "output_type": "execute_result"
    }
   ],
   "source": [
    "unfound_df.head()"
   ]
  },
  {
   "cell_type": "code",
   "execution_count": 29,
   "metadata": {
    "collapsed": true
   },
   "outputs": [],
   "source": [
    "driver = webdriver.Chrome()"
   ]
  },
  {
   "cell_type": "code",
   "execution_count": 30,
   "metadata": {
    "collapsed": true
   },
   "outputs": [],
   "source": [
    "driver.get(url)"
   ]
  },
  {
   "cell_type": "code",
   "execution_count": 31,
   "metadata": {
    "collapsed": true
   },
   "outputs": [],
   "source": [
    "driver.find_element_by_id('login-email').send_keys(username)\n",
    "driver.find_element_by_id('login-password').send_keys(password)\n",
    "time.sleep(random.gauss(1, .1))\n",
    "driver.find_element_by_name('submit').click()"
   ]
  },
  {
   "cell_type": "code",
   "execution_count": 33,
   "metadata": {
    "collapsed": false
   },
   "outputs": [
    {
     "name": "stdout",
     "output_type": "stream",
     "text": [
      "Processing 0: Jonathan Housley\n",
      "Processing 1: Charles Verbeck\n",
      "Processing 2: Miss Elaine Schweitzer\n",
      "Processing 3: Kimberly Crowell\n",
      "Processing 4: Christopher Lawrence\n",
      "Processing 5: Joan Kearns\n",
      "Processing 6: Jessica Tindel\n",
      "Processing 7: Edward Testerman\n",
      "Processing 8: Pete Kotarides\n",
      "Processing 9: Stephen Depasquale\n",
      "Processing 10: Maxwell Duncan\n",
      "Processing 11: Lauren Bain\n",
      "Processing 12: Robin Pitts\n",
      "Processing 13: Patricia Cary\n",
      "Processing 14: Stacie Zambas\n",
      "Processing 15: Zenubia Madhani\n",
      "Processing 16: Sara Duff McKeon\n",
      "Processing 17: Brandon Furlong\n",
      "Processing 18: Philip Bednar\n",
      "Processing 19: Jeremy Eichler\n",
      "Processing 20: Frank Williams\n",
      "Processing 21: Sandra Lineberger Wolk\n",
      "Processing 22: Jason Ware\n",
      "Processing 23: Gregory O'Brien\n",
      "Processing 24: Stephan Miller\n",
      "Processing 25: Allison Lines\n",
      "Processing 26: Miss Lorrie Bradley\n",
      "Processing 27: Matthew Rubin\n",
      "Processing 28: John Schmidt\n",
      "Processing 29: Susan Scribner\n",
      "Processing 30: Robert Bretz\n",
      "Processing 31: Sylvia Augustyn\n",
      "Processing 32: Jamie Harbeck\n",
      "Processing 33: Laura Shuping\n",
      "Processing 34: Lisa Heuchert\n",
      "Processing 35: Kymberly Shackelford\n",
      "Processing 36: Kathy Abell\n",
      "Processing 37: Matthew Cerimele\n",
      "Processing 38: Irving Brenner\n",
      "Processing 39: Jeremy Rayburn\n",
      "Processing 40: Michael Smith\n",
      "Processing 41: Kevin Laake\n",
      "Processing 42: Linda Block-Love\n",
      "Processing 43: Richard Lawrence\n",
      "Processing 44: Mark Mincer\n",
      "Processing 45: James Egan\n",
      "Processing 46: Douglas Cohen\n",
      "Processing 47: Avron Stoloff\n",
      "Processing 48: Harry Karageorge\n",
      "Processing 49: Joaquin Targhetta\n",
      "Processing 50: Margaret Marion\n",
      "Processing 51: Anne Goodnow\n",
      "Processing 52: Stephen McArdle\n",
      "Processing 53: Daniela Castagnino\n",
      "Processing 54: James Yates\n",
      "Processing 55: Julie Auspaker\n",
      "Processing 56: Kristin Jensen\n",
      "Processing 57: Shawn Boyd\n",
      "Processing 58: Sara Gigele\n",
      "Processing 59: Therese Silman\n"
     ]
    }
   ],
   "source": [
    "unfound_info = []\n",
    "scraped_info = []\n",
    "unyearmatch_info = []\n",
    "for idx, row in unfound_df.iterrows():\n",
    "    entity_id = row.ENTITY_ID_NUMBER\n",
    "    orig_name = row.PREF_MAIL_NAME\n",
    "    first_name = row.first_name\n",
    "    last_name = row.last_name    \n",
    "    grad_year = str(row.YEAR1)\n",
    "    business_title = row.BUSINESS_TITLE\n",
    "    employer = row.EMPLOYER\n",
    "    \n",
    "    print(\"Processing {}: {} {}\".format(idx, first_name, last_name))\n",
    "    \n",
    "    driver.find_element_by_id('advanced-search').click()\n",
    "    time.sleep(random.gauss(1, .1))\n",
    "    \n",
    "    driver.find_element_by_id('advs-firstName').clear()\n",
    "    driver.find_element_by_id('advs-lastName').clear()\n",
    "    driver.find_element_by_id('advs-school').clear()\n",
    "    \n",
    "    driver.find_element_by_id('advs-firstName').send_keys(first_name)\n",
    "    driver.find_element_by_id('advs-lastName').send_keys(last_name)\n",
    "    driver.find_element_by_id('advs-school').send_keys(school)\n",
    "    driver.find_element_by_class_name('submit-advs').click()\n",
    "    time.sleep(random.gauss(4.2, .5))\n",
    "    \n",
    "    num_results = driver.find_element_by_class_name('search-info').text.split('\\n')[0]\n",
    "    num_results = num_results.strip(\" results\")\n",
    "    #num_results = int(num_results)\n",
    "    if num_results == '0':\n",
    "        info = (entity_id, orig_name, grad_year, business_title, employer, first_name, last_name)\n",
    "        unfound_info.append(list(info))\n",
    "        continue\n",
    "        \n",
    "    results_summary = driver.find_element_by_id('results-container').text.split('\\n')\n",
    "    #print('results summary: {}'.format(results_summary))\n",
    "    scraped_name = results_summary[0]\n",
    "    for chars in REPLACE_CHARS:\n",
    "        scraped_name = scraped_name.replace(chars, '')\n",
    "    #print('scraped name: {}'.format(scraped_name))\n",
    "    summary_position = results_summary[1]\n",
    "    \n",
    "    full_name = first_name + \" \" + last_name\n",
    "    name_match = \"True\" if scraped_name == full_name else \"False\"\n",
    "    \n",
    "    driver.find_element_by_css_selector('a.title.main-headline').click()\n",
    "    time.sleep(random.gauss(1.1, .2))\n",
    "    \n",
    "    try:\n",
    "        education_text = driver.find_element_by_id('background-education').text.replace('Education\\n', '')\n",
    "        school_match = \"True\" if school in education_text else \"False\"\n",
    "        year_match = \"True\" if grad_year in education_text else \"False\"\n",
    "        parsed_education_text = education_text.split('\\n')\n",
    "    except Exception:\n",
    "        education_text = parsed_education_text = ''\n",
    "        school_match = year_match = \"False\"\n",
    "        \n",
    "    try:\n",
    "        work_experience = driver.find_element_by_id('background-experience-container').text.replace('Experience\\n', '')\n",
    "        parsed_work_experience = work_experience.split('\\n')\n",
    "        current_position = parsed_work_experience[0]\n",
    "        current_company = parsed_work_experience[1]\n",
    "        current_location = parsed_work_experience[2].rsplit(')')[1]\n",
    "        employer_match = \"True\" if current_company == employer else \"False\"\n",
    "    except Exception:\n",
    "        parsed_work_experience = current_position = current_company = current_location = ''\n",
    "        employer_match = \"False\"\n",
    "        \n",
    "    if year_match == 'False':\n",
    "        info = (entity_id, orig_name, grad_year, business_title, employer, first_name, last_name, num_results, scraped_name, summary_position,\n",
    "            current_position, current_company, current_location,\n",
    "            parsed_education_text, parsed_work_experience, name_match, school_match, year_match, employer_match)\n",
    "        unyearmatch_info.append(list(info))\n",
    "        continue\n",
    "        \n",
    "    #if name_match == 'False' and school_match == 'False' and year_match == 'False':\n",
    "    #    try_mcintyre(driver=driver, first_name, last_name, school=school2)\n",
    "    \n",
    "    driver.find_element_by_id('advanced-search').click()\n",
    "    time.sleep(random.gauss(1.1, .1))\n",
    "    \n",
    "    info = (entity_id, orig_name, grad_year, business_title, employer, first_name, last_name, num_results, scraped_name, summary_position,\n",
    "            current_position, current_company, current_location,\n",
    "            parsed_education_text, parsed_work_experience, name_match, school_match, year_match, employer_match)\n",
    "    scraped_info.append(list(info))\n"
   ]
  },
  {
   "cell_type": "code",
   "execution_count": 34,
   "metadata": {
    "collapsed": true
   },
   "outputs": [],
   "source": [
    "with open('results/358-476/unfound/unfoundresults358-476.csv', 'w') as output:\n",
    "    scraper_writer = csv.writer(output)\n",
    "    scraper_writer.writerow(['ENTITY_ID_NUMBER','PREF_MAIL_NAME','YEAR1','BUSINESS_TITLE','EMPLOYER',\n",
    "                    'first_name','last_name','No. Search Results','Search Results Name',\n",
    "                    'Search Results Work Summary', 'Current Position','Current Company','Current Location',\n",
    "                    'Education Experience','Work Experience','Name Match','School Match','Year Match',\n",
    "                    'Employer Match'])\n",
    "    for row in scraped_info:\n",
    "        scraper_writer.writerow(row)"
   ]
  },
  {
   "cell_type": "code",
   "execution_count": 35,
   "metadata": {
    "collapsed": true
   },
   "outputs": [],
   "source": [
    "with open('results/358-476/unfound/unfound.csv', 'w') as no_output:\n",
    "    scraper_writer = csv.writer(no_output)\n",
    "    scraper_writer.writerow(['ENTITY_ID_NUMBER','PREF_MAIL_NAME','YEAR1','BUSINESS_TITLE','EMPLOYER',\n",
    "                    'first_name','last_name'])\n",
    "    for row in unfound_info:\n",
    "        scraper_writer.writerow(row)"
   ]
  },
  {
   "cell_type": "code",
   "execution_count": 36,
   "metadata": {
    "collapsed": true
   },
   "outputs": [],
   "source": [
    "with open('results/358-476/unfound/no_year_match.csv', 'w') as no_year_match:\n",
    "    scraper_writer = csv.writer(no_year_match)\n",
    "    scraper_writer.writerow(['ENTITY_ID_NUMBER','PREF_MAIL_NAME','YEAR1','BUSINESS_TITLE','EMPLOYER',\n",
    "                    'first_name','last_name'])\n",
    "    for row in unyearmatch_info:\n",
    "        scraper_writer.writerow(row)"
   ]
  }
 ],
 "metadata": {
  "kernelspec": {
   "display_name": "Python 3",
   "language": "python",
   "name": "python3"
  },
  "language_info": {
   "codemirror_mode": {
    "name": "ipython",
    "version": 3
   },
   "file_extension": ".py",
   "mimetype": "text/x-python",
   "name": "python",
   "nbconvert_exporter": "python",
   "pygments_lexer": "ipython3",
   "version": "3.5.1"
  }
 },
 "nbformat": 4,
 "nbformat_minor": 0
}

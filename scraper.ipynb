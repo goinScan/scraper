{
 "cells": [
  {
   "cell_type": "code",
   "execution_count": 26,
   "metadata": {
    "collapsed": false
   },
   "outputs": [],
   "source": [
    "from selenium import webdriver\n",
    "import csv"
   ]
  },
  {
   "cell_type": "code",
   "execution_count": 4,
   "metadata": {
    "collapsed": false
   },
   "outputs": [],
   "source": [
    "search_list = []\n",
    "#input = pd.read_csv('ten_sample.csv')\n",
    "with open('ten_sample.csv', 'r') as input:\n",
    "    for row in input:\n",
    "        search_list.append(row)\n",
    "        "
   ]
  },
  {
   "cell_type": "code",
   "execution_count": 24,
   "metadata": {
    "collapsed": false
   },
   "outputs": [
    {
     "data": {
      "text/plain": [
       "'\"First\\tLast\\tClass\"\\n'"
      ]
     },
     "execution_count": 24,
     "metadata": {},
     "output_type": "execute_result"
    }
   ],
   "source": [
    "search_list.pop(0)"
   ]
  },
  {
   "cell_type": "code",
   "execution_count": 27,
   "metadata": {
    "collapsed": true
   },
   "outputs": [],
   "source": [
    "driver = webdriver.Chrome()"
   ]
  },
  {
   "cell_type": "code",
   "execution_count": 28,
   "metadata": {
    "collapsed": true
   },
   "outputs": [],
   "source": [
    "url = 'https://www.linkedin.com/'\n",
    "username = 'hbb3xe@virginia.edu'\n",
    "password = 'S+zMKr5o'"
   ]
  },
  {
   "cell_type": "code",
   "execution_count": 29,
   "metadata": {
    "collapsed": true
   },
   "outputs": [],
   "source": [
    "driver.get(url)"
   ]
  },
  {
   "cell_type": "code",
   "execution_count": 30,
   "metadata": {
    "collapsed": true
   },
   "outputs": [],
   "source": [
    "driver.find_element_by_id('login-email').send_keys(username)\n",
    "driver.find_element_by_id('login-password').send_keys(password)"
   ]
  },
  {
   "cell_type": "code",
   "execution_count": 31,
   "metadata": {
    "collapsed": true
   },
   "outputs": [],
   "source": [
    "driver.find_element_by_name('submit').click()"
   ]
  },
  {
   "cell_type": "code",
   "execution_count": 32,
   "metadata": {
    "collapsed": true
   },
   "outputs": [],
   "source": [
    "driver.find_element_by_id('advanced-search').click()"
   ]
  },
  {
   "cell_type": "code",
   "execution_count": 34,
   "metadata": {
    "collapsed": true
   },
   "outputs": [],
   "source": [
    "first = 'Sutton'\n",
    "last = 'White'\n",
    "school = 'University of Virginia'\n",
    "year = '2016'"
   ]
  },
  {
   "cell_type": "code",
   "execution_count": 35,
   "metadata": {
    "collapsed": true
   },
   "outputs": [],
   "source": [
    "driver.find_element_by_id('advs-firstName').send_keys(first)\n",
    "driver.find_element_by_id('advs-lastName').send_keys(last)\n",
    "driver.find_element_by_id('advs-school').send_keys(school)"
   ]
  },
  {
   "cell_type": "code",
   "execution_count": 36,
   "metadata": {
    "collapsed": true
   },
   "outputs": [],
   "source": [
    "driver.find_element_by_class_name('submit-advs').click()"
   ]
  },
  {
   "cell_type": "code",
   "execution_count": 38,
   "metadata": {
    "collapsed": false
   },
   "outputs": [],
   "source": [
    "results_summary = driver.find_element_by_id('results-container').text.split('\\n')"
   ]
  },
  {
   "cell_type": "code",
   "execution_count": 40,
   "metadata": {
    "collapsed": false
   },
   "outputs": [],
   "source": [
    "r_name = results_summary[0].strip('1st')\n",
    "r_position = results_summary[1]"
   ]
  },
  {
   "cell_type": "code",
   "execution_count": 42,
   "metadata": {
    "collapsed": false
   },
   "outputs": [
    {
     "data": {
      "text/plain": [
       "'Incoming Account Executive at Fisher Investments'"
      ]
     },
     "execution_count": 42,
     "metadata": {},
     "output_type": "execute_result"
    }
   ],
   "source": []
  },
  {
   "cell_type": "code",
   "execution_count": 44,
   "metadata": {
    "collapsed": false
   },
   "outputs": [],
   "source": [
    "num_results = driver.find_element_by_class_name('search-info').text.split('\\n')[0]"
   ]
  },
  {
   "cell_type": "code",
   "execution_count": 47,
   "metadata": {
    "collapsed": false
   },
   "outputs": [],
   "source": [
    "num_results = num_results.strip(\" results\")"
   ]
  },
  {
   "cell_type": "code",
   "execution_count": 53,
   "metadata": {
    "collapsed": false
   },
   "outputs": [],
   "source": [
    "num_results = int(num_results)"
   ]
  },
  {
   "cell_type": "code",
   "execution_count": 55,
   "metadata": {
    "collapsed": false
   },
   "outputs": [
    {
     "name": "stdout",
     "output_type": "stream",
     "text": [
      "HI\n"
     ]
    }
   ],
   "source": [
    "if num_results is 1:\n",
    "    print('HI')"
   ]
  },
  {
   "cell_type": "code",
   "execution_count": 52,
   "metadata": {
    "collapsed": false
   },
   "outputs": [
    {
     "data": {
      "text/plain": [
       "'1'"
      ]
     },
     "execution_count": 52,
     "metadata": {},
     "output_type": "execute_result"
    }
   ],
   "source": []
  },
  {
   "cell_type": "code",
   "execution_count": 56,
   "metadata": {
    "collapsed": true
   },
   "outputs": [],
   "source": [
    "driver.find_element_by_css_selector('a.title.main-headline').click()"
   ]
  },
  {
   "cell_type": "code",
   "execution_count": 57,
   "metadata": {
    "collapsed": true
   },
   "outputs": [],
   "source": [
    "work_experience = driver.find_element_by_class_name('background-section').text"
   ]
  },
  {
   "cell_type": "code",
   "execution_count": 59,
   "metadata": {
    "collapsed": false
   },
   "outputs": [],
   "source": [
    "work_experience = driver.find_element_by_id('background-experience-container').text"
   ]
  },
  {
   "cell_type": "code",
   "execution_count": 60,
   "metadata": {
    "collapsed": false
   },
   "outputs": [
    {
     "data": {
      "text/plain": [
       "'Experience\\nAccount Executive\\nFisher Investments\\nFebruary 2016 – Present (5 months)Camas, Washington\\nI will begin this position in July after graduation.\\nInvestment Analysis Extern\\nRedmond Asset Management, LLC\\nJune 2015 – August 2015 (3 months)Richmond, Virginia\\n-Researched and presented potential growth and value investment additions to the Small Cap Core Growth composite, the GARP composite, and the All Cap, Equity Income and Global Strategies composite, amounting to roughly $255 million in total assets under management\\n\\n-Analyzed annual reports, financial statements, SEC 10K filings, and domestic and international financial markets\\nInvestment Banking Intern\\nDickinson Williams & Company\\nJuly 2015 – July 2015 (1 month)Richmond, Virginia Area\\n-Used S&P Capital IQ, Microsoft Excel, and data from the U.S. Bureau of Economic Analysis and the St. Louis Federal Reserve to compose financial reports and spreadsheets describing economic trends, capital markets, and M&A activity\\nInvestment Strategist Intern\\nSalomon & Ludwin,LLC\\nJune 2015 – June 2015 (1 month)Richmond, Virginia\\n-Developed TriggerPoint and Total Market Strategy, two financial plans that make up $500 million of the roughly $750 million in total assets under management\\n\\n-Oversaw the procedures and methods necessary for estate and trust planning, tax filings, and income preservation customized for clients based on individual circumstances\\nSummer Marketing/Social Media Intern and English Translator\\nWay To Blue\\nJune 2014 – August 2014 (3 months)Madrid, Spain\\n-Communicated solely in Spanish with co-workers and served as the English translator for clients and Way to Blue branches in London, England and Sydney, Australia\\n\\n-Completed five international research and marketing reports weekly that were sent to large entertainment corporations, including Walt Disney, Sony, and Universal\\n\\n-Provided marketing suggestions for movie trailers, video games, and film releases\\nEquity and Fixed Income Research Intern\\nDavenport & Company LLC\\nMay 2013 – August 2013 (4 months)Richmond, VA\\n-Assisted the VP of Investments and Asset Management Division with equity and fixed income research for various portfolios amounting to $200 million\\n\\n-Used Bloomberg Professional, Credit Suisse, Thomson One Analytics, Value Line, and MarketScope Advisor as resources for research and daily global news\\nMaintenance Worker\\nIntegrity Landscaping Solutions\\nMay 2011 – August 2012 (1 year 4 months)Richmond, VA\\n-Maintained commercial and residential properties and constructed patios and garden beds\\n\\n-Worked 40 to 50 hours each week and communicated with co-workers in both English and Spanish\\nVeterinary Internship\\nVeterinary Referral and Critical Care Center\\nMarch 2011 – April 2011 (2 months)Manakin Sabot, Virginia\\n-Observed the emergency treatment and specialty care of several hundred animals each week\\n\\n-Aided in procedures including cardiology, canine physical rehabilitation, digital radiology, ultrasound, and chemotherapy'"
      ]
     },
     "execution_count": 60,
     "metadata": {},
     "output_type": "execute_result"
    }
   ],
   "source": [
    "work_experience"
   ]
  },
  {
   "cell_type": "code",
   "execution_count": null,
   "metadata": {
    "collapsed": true
   },
   "outputs": [],
   "source": []
  },
  {
   "cell_type": "code",
   "execution_count": 25,
   "metadata": {
    "collapsed": false
   },
   "outputs": [
    {
     "name": "stdout",
     "output_type": "stream",
     "text": [
      "Processing: Sutton White 2016\"\n",
      "\n",
      "Processing: Kevin Hsu 2014\"\n",
      "\n",
      "Processing: Ryan Ho 2014\"\n",
      "\n",
      "Processing: Devon Holland 2014\"\n",
      "\n",
      "Processing: Ajay Sundar 2014\"\n",
      "\n",
      "Processing: Graham Campbell 2014\"\n",
      "\n",
      "Processing: David Plon 2011\"\n",
      "\n",
      "Processing: Peter Lizza 2014\"\n",
      "\n",
      "Processing: Alex Sullivan 2014\"\n"
     ]
    }
   ],
   "source": [
    "for row in search_list:\n",
    "    first, last, year = row.split('\\t')\n",
    "    first = first.strip(\"\\\"\")\n",
    "    last = last.strip(\"\\\"\\n\")\n",
    "    print(\"Processing: {} {} {}\".format(first, last, year))\n",
    "    "
   ]
  },
  {
   "cell_type": "code",
   "execution_count": null,
   "metadata": {
    "collapsed": true
   },
   "outputs": [],
   "source": []
  },
  {
   "cell_type": "code",
   "execution_count": 10,
   "metadata": {
    "collapsed": false
   },
   "outputs": [],
   "source": []
  },
  {
   "cell_type": "code",
   "execution_count": 12,
   "metadata": {
    "collapsed": false
   },
   "outputs": [],
   "source": [
    "a, b, c = first.split('\\t')"
   ]
  },
  {
   "cell_type": "code",
   "execution_count": 15,
   "metadata": {
    "collapsed": false
   },
   "outputs": [
    {
     "data": {
      "text/plain": [
       "'Class\"\\n'"
      ]
     },
     "execution_count": 15,
     "metadata": {},
     "output_type": "execute_result"
    }
   ],
   "source": [
    "c"
   ]
  },
  {
   "cell_type": "code",
   "execution_count": 16,
   "metadata": {
    "collapsed": false
   },
   "outputs": [
    {
     "data": {
      "text/plain": [
       "'\"First'"
      ]
     },
     "execution_count": 16,
     "metadata": {},
     "output_type": "execute_result"
    }
   ],
   "source": [
    "a"
   ]
  },
  {
   "cell_type": "code",
   "execution_count": 20,
   "metadata": {
    "collapsed": false
   },
   "outputs": [
    {
     "data": {
      "text/plain": [
       "'First'"
      ]
     },
     "execution_count": 20,
     "metadata": {},
     "output_type": "execute_result"
    }
   ],
   "source": [
    "a.strip(\"\\\"\")"
   ]
  },
  {
   "cell_type": "code",
   "execution_count": 22,
   "metadata": {
    "collapsed": false
   },
   "outputs": [
    {
     "data": {
      "text/plain": [
       "'Last'"
      ]
     },
     "execution_count": 22,
     "metadata": {},
     "output_type": "execute_result"
    }
   ],
   "source": [
    "b"
   ]
  }
 ],
 "metadata": {
  "kernelspec": {
   "display_name": "Python 3",
   "language": "python",
   "name": "python3"
  },
  "language_info": {
   "codemirror_mode": {
    "name": "ipython",
    "version": 3
   },
   "file_extension": ".py",
   "mimetype": "text/x-python",
   "name": "python",
   "nbconvert_exporter": "python",
   "pygments_lexer": "ipython3",
   "version": "3.5.1"
  }
 },
 "nbformat": 4,
 "nbformat_minor": 0
}
